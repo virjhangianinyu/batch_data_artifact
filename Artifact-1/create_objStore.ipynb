{
 "cells": [
  {
   "cell_type": "markdown",
   "id": "70bb69e2-dd06-49df-adcd-2e229bc07f10",
   "metadata": {},
   "source": [
    "## Create ObjectStore"
   ]
  },
  {
   "cell_type": "markdown",
   "id": "44dfc008-b01e-4800-9345-370979eaab8b",
   "metadata": {},
   "source": [
    "In this notebook we will create an ObjectStore on Chameleons CHI@TACC servers to persist our data for our experiements. We do this to save ourselves from redundant effort of downloading data multiple times by persisting it in Chameleon Object Store containers. These containers can be accessed by an instance on Chameleon's KVM@TACC site where we will be conducting our experiments. Chameleon offers this functionality using containers within ObjectStore.\n",
    "\n",
    "Once we have theh ObjectStore set up we will be able to upload dtat to it and use this data from our instances whenever needed.\n"
   ]
  },
  {
   "cell_type": "code",
   "execution_count": 1,
   "id": "6c167071-4b9a-4b0d-bd00-6329b1a8d2dc",
   "metadata": {
    "tags": []
   },
   "outputs": [
    {
     "name": "stdout",
     "output_type": "stream",
     "text": [
      "Now using CHI@TACC:\n",
      "URL: https://chi.tacc.chameleoncloud.org\n",
      "Location: Austin, Texas, USA\n",
      "Support contact: help@chameleoncloud.org\n"
     ]
    }
   ],
   "source": [
    "import chi, os, time\n",
    "from chi import lease\n",
    "from chi import server\n",
    "\n",
    "PROJECT_NAME = \"CHI-231138\" # change this if you need to\n",
    "chi.use_site(\"CHI@TACC\")\n",
    "chi.set(\"project_name\", PROJECT_NAME)\n",
    "username = os.getenv('USER') # all exp resources will have this prefix"
   ]
  },
  {
   "cell_type": "markdown",
   "id": "ba142402-0fe8-4b97-b86b-3f5a92737e2f",
   "metadata": {},
   "source": [
    "## Intialize the objectStore container "
   ]
  },
  {
   "cell_type": "code",
   "execution_count": 2,
   "id": "6203d1e2-41f1-4f7a-a665-58406c6570a9",
   "metadata": {
    "tags": []
   },
   "outputs": [],
   "source": [
    "#to initialize a new container\n",
    "container_name = 'batch-data-container'\n",
    "# swift_conn.put_container(container_name)"
   ]
  },
  {
   "cell_type": "markdown",
   "id": "8aa8d275-9816-4162-8e7c-e82279867787",
   "metadata": {},
   "source": [
    "\n",
    "Use the code below to list the containers already on the account."
   ]
  },
  {
   "cell_type": "code",
   "execution_count": 4,
   "id": "741bc528-c176-4039-ba6e-7565a6efbc7a",
   "metadata": {
    "tags": []
   },
   "outputs": [
    {
     "name": "stdout",
     "output_type": "stream",
     "text": [
      "{'name': 'batch-data-container', 'count': 1, 'bytes': 58}\n"
     ]
    }
   ],
   "source": [
    "from chi.clients import session\n",
    "from swiftclient.client import Connection\n",
    "\n",
    "swift_conn = Connection(session=session())\n",
    "resp_headers, containers = swift_conn.get_account()\n",
    "\n",
    "for container in containers:\n",
    "    print(container)"
   ]
  },
  {
   "cell_type": "markdown",
   "id": "a6a11a42-7a9f-4bf9-98c7-090b8c96650d",
   "metadata": {},
   "source": [
    "## Delet the objectStore container"
   ]
  },
  {
   "cell_type": "code",
   "execution_count": 7,
   "id": "4c5b4be4-302e-4341-b135-247848d68a68",
   "metadata": {
    "tags": []
   },
   "outputs": [
    {
     "name": "stdout",
     "output_type": "stream",
     "text": [
      "Deleted object: sample-file.txt\n"
     ]
    }
   ],
   "source": [
    "objects = swift_conn.get_container(container_name)[1]\n",
    "for obj in objects:\n",
    "    swift_conn.delete_object(container_name, obj[\"name\"])\n",
    "    print(f\"Deleted object: {obj['name']}\")"
   ]
  },
  {
   "cell_type": "code",
   "execution_count": 8,
   "id": "30ae9000-50b1-47e9-b503-91e80a83547c",
   "metadata": {
    "tags": []
   },
   "outputs": [
    {
     "name": "stdout",
     "output_type": "stream",
     "text": [
      "Deleted container: batch-data-container\n"
     ]
    }
   ],
   "source": [
    "swift_conn.delete_container(container_name)\n",
    "print(f\"Deleted container: {container_name}\")"
   ]
  },
  {
   "cell_type": "code",
   "execution_count": null,
   "id": "bca44c4c-791b-49fb-a2e8-3ed40ed48e50",
   "metadata": {},
   "outputs": [],
   "source": []
  }
 ],
 "metadata": {
  "kernelspec": {
   "display_name": "Python 3 (ipykernel)",
   "language": "python",
   "name": "python3"
  },
  "language_info": {
   "codemirror_mode": {
    "name": "ipython",
    "version": 3
   },
   "file_extension": ".py",
   "mimetype": "text/x-python",
   "name": "python",
   "nbconvert_exporter": "python",
   "pygments_lexer": "ipython3",
   "version": "3.10.9"
  }
 },
 "nbformat": 4,
 "nbformat_minor": 5
}
