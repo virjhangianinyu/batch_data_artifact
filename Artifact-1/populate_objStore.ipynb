{
 "cells": [
  {
   "cell_type": "markdown",
   "id": "1dc4ff6b-4331-4157-8899-e6674b56c6b6",
   "metadata": {},
   "source": [
    "## Reserve and configure resources on KVM"
   ]
  },
  {
   "cell_type": "markdown",
   "id": "263f6563-aeca-4a7e-9081-44bd351c3ffe",
   "metadata": {},
   "source": [
    "Before you run this experiment, you will:\n",
    "\n",
    "-   define the specific configuration of resources you need.\n",
    "-   “instantiate” an experiment with your reserved resources.\n",
    "-   wait for your resources to be configured.\n",
    "-   log in to resources to carry out the experiment.\n",
    "\n",
    "This exercise will guide you through those steps.\n",
    "\n",
    "This notebook assumes you have completed the steps on https://teaching-on-testbeds.github.io/hello-chameleon/ and have uploaded the neccessary public key on the \"key pairs\" tab on the KVM@TACC site "
   ]
  },
  {
   "cell_type": "markdown",
   "id": "f496115e-0019-4b0e-90fc-e7d4a654ac4f",
   "metadata": {
    "tags": []
   },
   "source": [
    "### Configure environment"
   ]
  },
  {
   "cell_type": "code",
   "execution_count": 2,
   "id": "bf04acdb-ac75-4dfd-88a4-8871877b8ef9",
   "metadata": {
    "tags": []
   },
   "outputs": [],
   "source": [
    "import openstack, chi, chi.ssh, chi.network, chi.server, os\n",
    "from chi.clients import session"
   ]
  },
  {
   "cell_type": "markdown",
   "id": "e5f33b84-4a7e-43ab-9e74-e837e4707491",
   "metadata": {},
   "source": [
    "In this section, we configure the Chameleon Python client.\n",
    "\n",
    "For this experiment, we’re going to use the KVM@TACC site, which we indicate below.\n",
    "\n",
    "We also need to specify the name of the Chameleon “project” that this experiment is part of. The project name will have the format “CHI-XXXXXX”, where the last part is a 6-digit number, and you can find it on your [user dashboard](https://chameleoncloud.org/user/dashboard/)."
   ]
  },
  {
   "cell_type": "markdown",
   "id": "e9d7404e-0c42-4928-a852-65ba09bfc90c",
   "metadata": {},
   "source": [
    "In the cell below, replace the project ID with your own project ID, then run the cell."
   ]
  },
  {
   "cell_type": "code",
   "execution_count": 3,
   "id": "35d66ca1-5365-4bc9-92cc-0fee6e3ff7dd",
   "metadata": {
    "tags": []
   },
   "outputs": [
    {
     "name": "stdout",
     "output_type": "stream",
     "text": [
      "Now using KVM@TACC:\n",
      "URL: https://kvm.tacc.chameleoncloud.org\n",
      "Location: Austin, Texas, USA\n",
      "Support contact: help@chameleoncloud.org\n"
     ]
    }
   ],
   "source": [
    "PROJECT_NAME = \"CHI-231138\"\n",
    "chi.use_site(\"KVM@TACC\")\n",
    "chi.set(\"project_name\", PROJECT_NAME)\n",
    "os_conn = chi.clients.connection()\n",
    "username = os.getenv('USER')"
   ]
  },
  {
   "cell_type": "code",
   "execution_count": 4,
   "id": "81a75c91-8e0e-483a-a254-36eded6f9c5e",
   "metadata": {
    "tags": []
   },
   "outputs": [],
   "source": [
    "os_conn = chi.clients.connection()"
   ]
  },
  {
   "cell_type": "markdown",
   "id": "646f9b04-5c09-4d34-94b0-f745fdc89e59",
   "metadata": {},
   "source": [
    "### Define configuration for this experiment (1 VM)"
   ]
  },
  {
   "cell_type": "markdown",
   "id": "bf5cfe4b-e763-4666-94fe-9cbeace427cf",
   "metadata": {},
   "source": [
    "For this specific experiment, we will need one virtual machines which will be of the `m1.medium` type, with 2 VCPUs, 4 GB memory, 40 GB disk space."
   ]
  },
  {
   "cell_type": "code",
   "execution_count": 5,
   "id": "7630c6af-9e61-4e65-a889-d2ad8c57becf",
   "metadata": {
    "tags": []
   },
   "outputs": [],
   "source": [
    "node_conf = [\n",
    " {'name': \"node-0\",  'flavor': 'm1.medium', 'image': 'CC-Ubuntu24.04', 'packages': [\"python3\", \"virtualenv\"], 'bastion': True}\n",
    "]\n",
    "net_conf = [\n",
    " {\"name\": \"net0\", \"subnet\": \"192.168.1.0/24\", \"nodes\": [{\"name\": \"node-0\",   \"addr\": \"192.168.1.10\"}]},\n",
    "]\n",
    "route_conf = []"
   ]
  },
  {
   "cell_type": "markdown",
   "id": "e94eb37a-6304-40c0-9f29-690445c3a81e",
   "metadata": {},
   "source": [
    "### Configure resources\n",
    "\n",
    "Now, we will prepare the VMs and network links that our experiment requires."
   ]
  },
  {
   "cell_type": "markdown",
   "id": "7609f266-fe3e-4c8d-8460-20dcf7a35ad5",
   "metadata": {},
   "source": [
    "First, we will prepare a “public” network that we will use for SSH access to our VMs -"
   ]
  },
  {
   "cell_type": "code",
   "execution_count": 42,
   "id": "7b8738cd-f1a0-4346-9080-2f9a1071652f",
   "metadata": {
    "tags": []
   },
   "outputs": [],
   "source": [
    "public_net = os_conn.network.create_network(name=\"public_net_\" + username)\n",
    "public_net_id = public_net.get(\"id\")\n",
    "public_subnet = os_conn.network.create_subnet(\n",
    "    name=\"public_subnet_\" + username,\n",
    "    network_id=public_net.get(\"id\"),\n",
    "    ip_version='4',\n",
    "    cidr=\"192.168.10.0/24\",\n",
    "    gateway_ip=\"192.168.10.1\",\n",
    "    is_dhcp_enabled = True\n",
    ")"
   ]
  },
  {
   "cell_type": "markdown",
   "id": "55e899fe-db04-4c22-8294-2ee99c1d8c6b",
   "metadata": {},
   "source": [
    "Next, we will prepare the “experiment” networks -"
   ]
  },
  {
   "cell_type": "code",
   "execution_count": 43,
   "id": "72737b88-fa82-4430-ab67-7eb287ae5fd6",
   "metadata": {
    "tags": []
   },
   "outputs": [],
   "source": [
    "nets = []\n",
    "net_ids = []\n",
    "subnets = []\n",
    "for n in net_conf:\n",
    "    exp_net = os_conn.network.create_network(name=\"exp_\" + n['name']  + '_' + username)\n",
    "    exp_net_id = exp_net.get(\"id\")\n",
    "    os_conn.network.update_network(exp_net, is_port_security_enabled=False)\n",
    "    exp_subnet = os_conn.network.create_subnet(\n",
    "        name=\"exp_subnet_\" + n['name']  + '_' + username,\n",
    "        network_id=exp_net.get(\"id\"),\n",
    "        ip_version='4',\n",
    "        cidr=n['subnet'],\n",
    "        gateway_ip=None,\n",
    "        is_dhcp_enabled = True\n",
    "    )\n",
    "    nets.append(exp_net)\n",
    "    net_ids.append(exp_net_id)\n",
    "    subnets.append(exp_subnet)"
   ]
  },
  {
   "cell_type": "markdown",
   "id": "c1f3462d-2de8-4342-8f4d-f392ac023ecf",
   "metadata": {},
   "source": [
    "Now we create the VMs -"
   ]
  },
  {
   "cell_type": "code",
   "execution_count": 44,
   "id": "6ee9bbb7-df09-4ae3-8b90-0740774f03b2",
   "metadata": {
    "tags": []
   },
   "outputs": [
    {
     "name": "stdout",
     "output_type": "stream",
     "text": [
      "printing: 10 {'name': 'node-0', 'flavor': 'm1.medium', 'image': 'CC-Ubuntu24.04', 'packages': ['python3', 'virtualenv'], 'bastion': True}\n"
     ]
    }
   ],
   "source": [
    "servers = []\n",
    "server_ids = []\n",
    "for i, n in enumerate(node_conf, start=10):\n",
    "    print(\"printing:\", i, n)\n",
    "    image_uuid = os_conn.image.find_image(n['image']).id\n",
    "    flavor_uuid = os_conn.compute.find_flavor(n['flavor']).id\n",
    "    # find out details of exp interface(s)\n",
    "    nics = [{'net-id': chi.network.get_network_id( \"exp_\" + net['name']  + '_' + username ), 'v4-fixed-ip': node['addr']} for net in net_conf for node in net['nodes'] if node['name']==n['name']]\n",
    "    # also include a public network interface\n",
    "    nics.insert(0, {\"net-id\": public_net_id, \"v4-fixed-ip\":\"192.168.10.\" + str(i)})\n",
    "    server = chi.server.create_server(\n",
    "        server_name=n['name'] + \"_\" + username,\n",
    "        image_id=image_uuid,\n",
    "        flavor_id=flavor_uuid,\n",
    "        nics=nics\n",
    "    )\n",
    "    servers.append(server)\n",
    "    server_ids.append(chi.server.get_server(n['name'] + \"_\" + username).id)"
   ]
  },
  {
   "cell_type": "markdown",
   "id": "3670b81c-da28-4343-9004-5bece1f209e3",
   "metadata": {},
   "source": [
    "We wait for all servers to come up before we proceed -"
   ]
  },
  {
   "cell_type": "code",
   "execution_count": 45,
   "id": "e31bee87-6441-47ed-8be3-815206cd0431",
   "metadata": {
    "tags": []
   },
   "outputs": [],
   "source": [
    "for server_id in server_ids:\n",
    "    chi.server.wait_for_active(server_id)"
   ]
  },
  {
   "cell_type": "markdown",
   "id": "346110ee-c061-4c6f-98ab-102a26797296",
   "metadata": {},
   "source": [
    "Next, we will set up SSH access to the VMs.\n",
    "\n",
    "First, we will make sure the “public” network is connected to the Internet. Then, we will configure it to permit SSH access on port 22 for each port connected to this network."
   ]
  },
  {
   "cell_type": "code",
   "execution_count": 46,
   "id": "22037ced-556a-4f9a-9285-6b76d5b8853f",
   "metadata": {
    "tags": []
   },
   "outputs": [
    {
     "data": {
      "text/plain": [
       "{'network_id': '2ff3405d-9378-40bb-b588-066839d6abf8',\n",
       " 'tenant_id': '13a1ac1ce275484caedc3394339486a1',\n",
       " 'subnet_id': '8ab0b65d-767a-45eb-831e-28230a5aabdb',\n",
       " 'subnet_ids': ['8ab0b65d-767a-45eb-831e-28230a5aabdb'],\n",
       " 'port_id': '185d3027-1d9b-4db9-95f3-99f6d01d281f',\n",
       " 'id': '62baaf84-995a-463f-a858-2dd906a853c1'}"
      ]
     },
     "execution_count": 46,
     "metadata": {},
     "output_type": "execute_result"
    }
   ],
   "source": [
    "# connect them to the Internet on the \"public\" network (e.g. for software installation)\n",
    "router = chi.network.create_router('inet_router_' + username, gw_network_name='public')\n",
    "chi.network.add_subnet_to_router(router.get(\"id\"), public_subnet.get(\"id\"))"
   ]
  },
  {
   "cell_type": "code",
   "execution_count": 47,
   "id": "e9044cda-f2ad-4a7f-ac62-5c27e265de3d",
   "metadata": {
    "tags": []
   },
   "outputs": [],
   "source": [
    "# prepare SSH access on the servers that serve in \"bastion\" role\n",
    "# WARNING: this relies on undocumented behavior of associate_floating_ip \n",
    "# that it associates the IP with the first port on the server\n",
    "server_ips = []\n",
    "for i, n in enumerate(node_conf):\n",
    "    if 'bastion' in n and n['bastion']:\n",
    "        ip = chi.server.associate_floating_ip(server_ids[i])\n",
    "        server_ips.append(ip)"
   ]
  },
  {
   "cell_type": "code",
   "execution_count": 48,
   "id": "b9412193-6f09-4505-9f69-1038aeb79229",
   "metadata": {
    "tags": []
   },
   "outputs": [],
   "source": [
    "if not os_conn.get_security_group(\"Allow SSH\"):\n",
    "    os_conn.create_security_group(\"Allow SSH\", \"Enable SSH traffic on TCP port 22\")\n",
    "    os_conn.create_security_group_rule(\"Allow SSH\", port_range_min=22, port_range_max=22, protocol='tcp', remote_ip_prefix='0.0.0.0/0')\n",
    "\n",
    "security_group_id = os_conn.get_security_group(\"Allow SSH\").id\n",
    "for port in chi.network.list_ports(): \n",
    "    if port['port_security_enabled'] and port['network_id']==public_net.get(\"id\"):\n",
    "        os_conn.network.update_port(port['id'], security_groups=[security_group_id])"
   ]
  },
  {
   "cell_type": "code",
   "execution_count": 49,
   "id": "f1b84a92-cbd8-4055-8e06-e41f5d330b1b",
   "metadata": {
    "tags": []
   },
   "outputs": [],
   "source": [
    "for ip in server_ips:\n",
    "    chi.server.wait_for_tcp(ip, port=22)"
   ]
  },
  {
   "cell_type": "markdown",
   "id": "4212de43-5d7d-4406-8c2d-b369ca1cf95b",
   "metadata": {},
   "source": [
    "The following cell may raise an error if some of your nodes are still getting set up! If that happens, wait a few minutes and try again. (And then a few minutes more, and try again, if it still raises an error.)"
   ]
  },
  {
   "cell_type": "code",
   "execution_count": 7,
   "id": "84b8700f-14bd-4f93-ade0-8d6da2edad73",
   "metadata": {
    "tags": []
   },
   "outputs": [],
   "source": [
    "primary_remote = chi.ssh.Remote(server_ips[0])\n",
    "physical_ips = [n['addr'] for n in net_conf[0]['nodes']]\n",
    "server_remotes = [chi.ssh.Remote(physical_ip, gateway=primary_remote) for physical_ip in physical_ips]"
   ]
  },
  {
   "cell_type": "markdown",
   "id": "ddac9483-d046-42ef-a53d-9a649c7f730c",
   "metadata": {},
   "source": [
    "Finally, we need to configure our resources, including software package installation"
   ]
  },
  {
   "cell_type": "code",
   "execution_count": 51,
   "id": "d28ba18a-a471-4cbb-8b72-10a15da8f9d4",
   "metadata": {
    "tags": []
   },
   "outputs": [
    {
     "name": "stderr",
     "output_type": "stream",
     "text": [
      "/opt/conda/lib/python3.10/site-packages/paramiko/client.py:889: UserWarning: Unknown ssh-ed25519 host key for 129.114.26.118: b'0973d3549c0d2a8910162d8504d609b6'\n",
      "  warnings.warn(\n",
      "/opt/conda/lib/python3.10/site-packages/paramiko/client.py:889: UserWarning: Unknown ssh-ed25519 host key for 192.168.1.10: b'0973d3549c0d2a8910162d8504d609b6'\n",
      "  warnings.warn(\n",
      "\n",
      "WARNING: apt does not have a stable CLI interface. Use with caution in scripts.\n",
      "\n"
     ]
    },
    {
     "name": "stdout",
     "output_type": "stream",
     "text": [
      "Get:1 http://nova.clouds.archive.ubuntu.com/ubuntu noble InRelease [256 kB]\n",
      "Get:2 http://security.ubuntu.com/ubuntu noble-security InRelease [126 kB]\n",
      "Get:3 http://nova.clouds.archive.ubuntu.com/ubuntu noble-updates InRelease [126 kB]\n",
      "Get:4 http://nova.clouds.archive.ubuntu.com/ubuntu noble-backports InRelease [126 kB]\n",
      "Get:5 http://security.ubuntu.com/ubuntu noble-security/main amd64 Packages [611 kB]\n",
      "Get:6 http://nova.clouds.archive.ubuntu.com/ubuntu noble-updates/main amd64 Packages [833 kB]\n",
      "Get:7 http://security.ubuntu.com/ubuntu noble-security/main amd64 Components [8964 B]\n",
      "Get:8 http://security.ubuntu.com/ubuntu noble-security/main amd64 c-n-f Metadata [5892 B]\n",
      "Get:9 http://security.ubuntu.com/ubuntu noble-security/universe amd64 Packages [802 kB]\n",
      "Get:10 http://security.ubuntu.com/ubuntu noble-security/universe amd64 Components [52.0 kB]\n",
      "Get:11 http://security.ubuntu.com/ubuntu noble-security/universe amd64 c-n-f Metadata [13.5 kB]\n",
      "Get:12 http://security.ubuntu.com/ubuntu noble-security/restricted amd64 Packages [613 kB]\n",
      "Get:13 http://security.ubuntu.com/ubuntu noble-security/restricted amd64 Components [212 B]\n",
      "Get:14 http://security.ubuntu.com/ubuntu noble-security/restricted amd64 c-n-f Metadata [424 B]\n",
      "Get:15 http://security.ubuntu.com/ubuntu noble-security/multiverse amd64 Packages [12.4 kB]\n",
      "Get:16 http://security.ubuntu.com/ubuntu noble-security/multiverse amd64 Components [212 B]\n",
      "Get:17 http://security.ubuntu.com/ubuntu noble-security/multiverse amd64 c-n-f Metadata [356 B]\n",
      "Get:18 http://nova.clouds.archive.ubuntu.com/ubuntu noble-updates/main amd64 Components [151 kB]\n",
      "Get:19 http://nova.clouds.archive.ubuntu.com/ubuntu noble-updates/main amd64 c-n-f Metadata [10.4 kB]\n",
      "Get:20 http://nova.clouds.archive.ubuntu.com/ubuntu noble-updates/universe amd64 Packages [994 kB]\n",
      "Get:21 http://nova.clouds.archive.ubuntu.com/ubuntu noble-updates/universe amd64 Components [313 kB]\n",
      "Get:22 http://nova.clouds.archive.ubuntu.com/ubuntu noble-updates/universe amd64 c-n-f Metadata [19.9 kB]\n",
      "Get:23 http://nova.clouds.archive.ubuntu.com/ubuntu noble-updates/restricted amd64 Packages [623 kB]\n",
      "Get:24 http://nova.clouds.archive.ubuntu.com/ubuntu noble-updates/restricted amd64 Components [212 B]\n",
      "Get:25 http://nova.clouds.archive.ubuntu.com/ubuntu noble-updates/restricted amd64 c-n-f Metadata [424 B]\n",
      "Get:26 http://nova.clouds.archive.ubuntu.com/ubuntu noble-updates/multiverse amd64 Packages [16.0 kB]\n",
      "Get:27 http://nova.clouds.archive.ubuntu.com/ubuntu noble-updates/multiverse amd64 Components [940 B]\n",
      "Get:28 http://nova.clouds.archive.ubuntu.com/ubuntu noble-updates/multiverse amd64 c-n-f Metadata [552 B]\n",
      "Get:29 http://nova.clouds.archive.ubuntu.com/ubuntu noble-backports/main amd64 Components [208 B]\n",
      "Get:30 http://nova.clouds.archive.ubuntu.com/ubuntu noble-backports/universe amd64 Packages [13.4 kB]\n",
      "Get:31 http://nova.clouds.archive.ubuntu.com/ubuntu noble-backports/universe amd64 Components [17.6 kB]\n",
      "Get:32 http://nova.clouds.archive.ubuntu.com/ubuntu noble-backports/restricted amd64 Components [216 B]\n",
      "Get:33 http://nova.clouds.archive.ubuntu.com/ubuntu noble-backports/multiverse amd64 Components [212 B]\n",
      "Fetched 5748 kB in 2s (3496 kB/s)\n",
      "Reading package lists...\n",
      "Building dependency tree...\n",
      "Reading state information...\n",
      "154 packages can be upgraded. Run 'apt list --upgradable' to see them.\n"
     ]
    },
    {
     "name": "stderr",
     "output_type": "stream",
     "text": [
      "\n",
      "WARNING: apt does not have a stable CLI interface. Use with caution in scripts.\n",
      "\n"
     ]
    },
    {
     "name": "stdout",
     "output_type": "stream",
     "text": [
      "Reading package lists...\n",
      "Building dependency tree...\n",
      "Reading state information...\n",
      "python3 is already the newest version (3.12.3-0ubuntu2).\n",
      "python3 set to manually installed.\n",
      "The following additional packages will be installed:\n",
      "  python3-distlib python3-filelock python3-platformdirs python3-virtualenv\n",
      "  python3-wheel-whl\n",
      "Recommended packages:\n",
      "  python3-distutils\n",
      "The following NEW packages will be installed:\n",
      "  python3-distlib python3-filelock python3-platformdirs python3-virtualenv\n",
      "  python3-wheel-whl virtualenv\n",
      "0 upgraded, 6 newly installed, 0 to remove and 154 not upgraded.\n",
      "Need to get 486 kB of archives.\n",
      "After this operation, 1796 kB of additional disk space will be used.\n",
      "Get:1 http://nova.clouds.archive.ubuntu.com/ubuntu noble/universe amd64 python3-distlib all 0.3.8-1 [318 kB]\n",
      "Get:2 http://nova.clouds.archive.ubuntu.com/ubuntu noble/universe amd64 python3-filelock all 3.13.1-1 [10.8 kB]\n",
      "Get:3 http://nova.clouds.archive.ubuntu.com/ubuntu noble/main amd64 python3-platformdirs all 4.2.0-1 [16.1 kB]\n",
      "Get:4 http://nova.clouds.archive.ubuntu.com/ubuntu noble/universe amd64 python3-wheel-whl all 0.42.0-2 [67.8 kB]\n",
      "Get:5 http://nova.clouds.archive.ubuntu.com/ubuntu noble/universe amd64 python3-virtualenv all 20.25.0+ds-2 [70.8 kB]\n",
      "Get:6 http://nova.clouds.archive.ubuntu.com/ubuntu noble/universe amd64 virtualenv all 20.25.0+ds-2 [1978 B]\n"
     ]
    },
    {
     "name": "stderr",
     "output_type": "stream",
     "text": [
      "debconf: unable to initialize frontend: Dialog\n",
      "debconf: (Dialog frontend will not work on a dumb terminal, an emacs shell buffer, or without a controlling terminal.)\n",
      "debconf: falling back to frontend: Readline\n",
      "debconf: unable to initialize frontend: Readline\n",
      "debconf: (This frontend requires a controlling tty.)\n",
      "debconf: falling back to frontend: Teletype\n",
      "dpkg-preconfigure: unable to re-open stdin: \n"
     ]
    },
    {
     "name": "stdout",
     "output_type": "stream",
     "text": [
      "Fetched 486 kB in 0s (996 kB/s)\n",
      "Selecting previously unselected package python3-distlib.\n",
      "(Reading database ... 89422 files and directories currently installed.)\n",
      "Preparing to unpack .../0-python3-distlib_0.3.8-1_all.deb ...\n",
      "Unpacking python3-distlib (0.3.8-1) ...\n",
      "Selecting previously unselected package python3-filelock.\n",
      "Preparing to unpack .../1-python3-filelock_3.13.1-1_all.deb ...\n",
      "Unpacking python3-filelock (3.13.1-1) ...\n",
      "Selecting previously unselected package python3-platformdirs.\n",
      "Preparing to unpack .../2-python3-platformdirs_4.2.0-1_all.deb ...\n",
      "Unpacking python3-platformdirs (4.2.0-1) ...\n",
      "Selecting previously unselected package python3-wheel-whl.\n",
      "Preparing to unpack .../3-python3-wheel-whl_0.42.0-2_all.deb ...\n",
      "Unpacking python3-wheel-whl (0.42.0-2) ...\n",
      "Selecting previously unselected package python3-virtualenv.\n",
      "Preparing to unpack .../4-python3-virtualenv_20.25.0+ds-2_all.deb ...\n",
      "Unpacking python3-virtualenv (20.25.0+ds-2) ...\n",
      "Selecting previously unselected package virtualenv.\n",
      "Preparing to unpack .../5-virtualenv_20.25.0+ds-2_all.deb ...\n",
      "Unpacking virtualenv (20.25.0+ds-2) ...\n",
      "Setting up python3-filelock (3.13.1-1) ...\n",
      "Setting up python3-distlib (0.3.8-1) ...\n",
      "Setting up python3-platformdirs (4.2.0-1) ...\n",
      "Setting up python3-wheel-whl (0.42.0-2) ...\n",
      "Setting up python3-virtualenv (20.25.0+ds-2) ...\n",
      "Setting up virtualenv (20.25.0+ds-2) ...\n",
      "Processing triggers for man-db (2.12.0-4build2) ...\n"
     ]
    },
    {
     "name": "stderr",
     "output_type": "stream",
     "text": [
      "debconf: unable to initialize frontend: Dialog\n",
      "debconf: (Dialog frontend will not work on a dumb terminal, an emacs shell buffer, or without a controlling terminal.)\n",
      "debconf: falling back to frontend: Readline\n",
      "debconf: unable to initialize frontend: Readline\n",
      "debconf: (This frontend requires a controlling tty.)\n",
      "debconf: falling back to frontend: Teletype\n",
      "\n",
      "Running kernel seems to be up-to-date.\n",
      "\n",
      "No services need to be restarted.\n",
      "\n",
      "No containers need to be restarted.\n",
      "\n",
      "No user sessions are running outdated binaries.\n",
      "\n",
      "No VM guests are running outdated hypervisor (qemu) binaries on this host.\n"
     ]
    }
   ],
   "source": [
    "for i, n in enumerate(node_conf):\n",
    "    # install packages\n",
    "    if len(n['packages']):\n",
    "            remote = server_remotes[i]\n",
    "            remote.run(f\"sudo apt update; sudo apt -y install \" + \" \".join(n['packages'])) "
   ]
  },
  {
   "cell_type": "markdown",
   "id": "160f7832-4279-4845-bd8d-9c9a4091cebb",
   "metadata": {},
   "source": [
    "### Get SSH login details"
   ]
  },
  {
   "cell_type": "markdown",
   "id": "872304b0-dc52-4f60-a764-f4f7e90f1895",
   "metadata": {},
   "source": [
    "At this point, we should be able to log in to our head node over SSH! Run the following cell, and observe the output - you will see SSH command for the head node using the public ip."
   ]
  },
  {
   "cell_type": "code",
   "execution_count": 52,
   "id": "8804c379-78a2-4718-ae6a-72c292bfb8d5",
   "metadata": {
    "tags": []
   },
   "outputs": [
    {
     "name": "stdout",
     "output_type": "stream",
     "text": [
      "ssh cc@129.114.26.118\n"
     ]
    }
   ],
   "source": [
    "print(\"ssh cc@\" + server_ips[0])"
   ]
  },
  {
   "cell_type": "markdown",
   "id": "0c65307a-e0d5-4f5d-9ba0-0bbd945c18f2",
   "metadata": {},
   "source": [
    "Now, you can open an SSH session as follows:\n",
    "\n",
    "-   In Jupyter, from the menu bar, use File \\> New \\> Terminal to open a new terminal.\n",
    "-   Copy the SSH command from the output above, and paste it into the terminal.\n",
    "\n",
    "Alternatively, you can use your local terminal to log on to the node, if you prefer. (On your local terminal, you may need to also specify your key path as part of the SSH command, using the `-i` argument followed by the path to your private key.)\n",
    "\n",
    "For example ssh -i ~/.ssh/id_rsa_chameleon cc@public_ip"
   ]
  },
  {
   "cell_type": "markdown",
   "id": "e30c6141-a07a-4b42-8879-82d092cfda9b",
   "metadata": {},
   "source": [
    "## Uploading data to objStore"
   ]
  },
  {
   "cell_type": "markdown",
   "id": "d311471f-2ed5-4caa-aa8b-e280450393a3",
   "metadata": {},
   "source": [
    "First we want to install certain packages on the node including swift we will do this using a python virtualenv"
   ]
  },
  {
   "cell_type": "code",
   "execution_count": 53,
   "id": "c406ae90-1758-4caa-8f0b-0a65e7d26513",
   "metadata": {
    "tags": []
   },
   "outputs": [
    {
     "name": "stdout",
     "output_type": "stream",
     "text": [
      "created virtual environment CPython3.12.3.final.0-64 in 705ms\n",
      "  creator CPython3Posix(dest=/home/cc/myenv, clear=False, no_vcs_ignore=False, global=False)\n",
      "  seeder FromAppData(download=False, pip=bundle, via=copy, app_data_dir=/home/cc/.local/share/virtualenv)\n",
      "    added seed packages: pip==24.0\n",
      "  activators BashActivator,CShellActivator,FishActivator,NushellActivator,PowerShellActivator,PythonActivator\n"
     ]
    },
    {
     "data": {
      "text/plain": [
       "<Result cmd='virtualenv -p python3 myenv' exited=0>"
      ]
     },
     "execution_count": 53,
     "metadata": {},
     "output_type": "execute_result"
    }
   ],
   "source": [
    "primary_remote.run(\"virtualenv -p python3 myenv\")"
   ]
  },
  {
   "cell_type": "code",
   "execution_count": 54,
   "id": "db8820b3-3e94-4e8c-8ef5-621f852b5149",
   "metadata": {
    "tags": []
   },
   "outputs": [
    {
     "name": "stdout",
     "output_type": "stream",
     "text": [
      "Collecting python-swiftclient\n",
      "  Downloading python_swiftclient-4.6.0-py3-none-any.whl.metadata (3.8 kB)\n",
      "Collecting requests>=2.4.0 (from python-swiftclient)\n",
      "  Downloading requests-2.32.3-py3-none-any.whl.metadata (4.6 kB)\n",
      "Collecting charset-normalizer<4,>=2 (from requests>=2.4.0->python-swiftclient)\n",
      "  Downloading charset_normalizer-3.4.1-cp312-cp312-manylinux_2_17_x86_64.manylinux2014_x86_64.whl.metadata (35 kB)\n",
      "Collecting idna<4,>=2.5 (from requests>=2.4.0->python-swiftclient)\n",
      "  Downloading idna-3.10-py3-none-any.whl.metadata (10 kB)\n",
      "Collecting urllib3<3,>=1.21.1 (from requests>=2.4.0->python-swiftclient)\n",
      "  Downloading urllib3-2.3.0-py3-none-any.whl.metadata (6.5 kB)\n",
      "Collecting certifi>=2017.4.17 (from requests>=2.4.0->python-swiftclient)\n",
      "  Downloading certifi-2024.12.14-py3-none-any.whl.metadata (2.3 kB)\n",
      "Downloading python_swiftclient-4.6.0-py3-none-any.whl (88 kB)\n",
      "   ━━━━━━━━━━━━━━━━━━━━━━━━━━━━━━━━━━━━━━━━ 88.8/88.8 kB 1.8 MB/s eta 0:00:00\n",
      "Downloading requests-2.32.3-py3-none-any.whl (64 kB)\n",
      "   ━━━━━━━━━━━━━━━━━━━━━━━━━━━━━━━━━━━━━━━━ 64.9/64.9 kB 3.4 MB/s eta 0:00:00\n",
      "Downloading certifi-2024.12.14-py3-none-any.whl (164 kB)\n",
      "   ━━━━━━━━━━━━━━━━━━━━━━━━━━━━━━━━━━━━━━━━ 164.9/164.9 kB 4.1 MB/s eta 0:00:00\n",
      "Downloading charset_normalizer-3.4.1-cp312-cp312-manylinux_2_17_x86_64.manylinux2014_x86_64.whl (145 kB)\n",
      "   ━━━━━━━━━━━━━━━━━━━━━━━━━━━━━━━━━━━━━━━━ 145.3/145.3 kB 4.4 MB/s eta 0:00:00\n",
      "Downloading idna-3.10-py3-none-any.whl (70 kB)\n",
      "   ━━━━━━━━━━━━━━━━━━━━━━━━━━━━━━━━━━━━━━━━ 70.4/70.4 kB 4.0 MB/s eta 0:00:00\n",
      "Downloading urllib3-2.3.0-py3-none-any.whl (128 kB)\n",
      "   ━━━━━━━━━━━━━━━━━━━━━━━━━━━━━━━━━━━━━━━━ 128.4/128.4 kB 4.7 MB/s eta 0:00:00\n",
      "Installing collected packages: urllib3, idna, charset-normalizer, certifi, requests, python-swiftclient\n",
      "Successfully installed certifi-2024.12.14 charset-normalizer-3.4.1 idna-3.10 python-swiftclient-4.6.0 requests-2.32.3 urllib3-2.3.0\n",
      "Collecting python-keystoneclient\n",
      "  Downloading python_keystoneclient-5.5.0-py3-none-any.whl.metadata (3.7 kB)\n",
      "Collecting debtcollector>=1.2.0 (from python-keystoneclient)\n",
      "  Downloading debtcollector-3.0.0-py3-none-any.whl.metadata (2.3 kB)\n",
      "Collecting keystoneauth1>=3.4.0 (from python-keystoneclient)\n",
      "  Downloading keystoneauth1-5.9.1-py3-none-any.whl.metadata (4.1 kB)\n",
      "Collecting oslo.config>=5.2.0 (from python-keystoneclient)\n",
      "  Downloading oslo.config-9.7.0-py3-none-any.whl.metadata (2.9 kB)\n",
      "Collecting oslo.i18n>=3.15.3 (from python-keystoneclient)\n",
      "  Downloading oslo.i18n-6.5.0-py3-none-any.whl.metadata (2.1 kB)\n",
      "Collecting oslo.serialization>=2.18.0 (from python-keystoneclient)\n",
      "  Downloading oslo.serialization-5.6.0-py3-none-any.whl.metadata (2.2 kB)\n",
      "Collecting oslo.utils>=3.33.0 (from python-keystoneclient)\n",
      "  Downloading oslo.utils-8.0.0-py3-none-any.whl.metadata (2.2 kB)\n",
      "Collecting packaging>=20.4 (from python-keystoneclient)\n",
      "  Downloading packaging-24.2-py3-none-any.whl.metadata (3.2 kB)\n",
      "Collecting pbr>=2.0.0 (from python-keystoneclient)\n",
      "  Downloading pbr-6.1.0-py2.py3-none-any.whl.metadata (3.4 kB)\n",
      "Requirement already satisfied: requests>=2.14.2 in ./myenv/lib/python3.12/site-packages (from python-keystoneclient) (2.32.3)\n",
      "Collecting stevedore>=1.20.0 (from python-keystoneclient)\n",
      "  Downloading stevedore-5.4.0-py3-none-any.whl.metadata (2.3 kB)\n",
      "Collecting wrapt>=1.7.0 (from debtcollector>=1.2.0->python-keystoneclient)\n",
      "  Downloading wrapt-1.17.2-cp312-cp312-manylinux_2_5_x86_64.manylinux1_x86_64.manylinux_2_17_x86_64.manylinux2014_x86_64.whl.metadata (6.4 kB)\n",
      "Collecting iso8601>=2.0.0 (from keystoneauth1>=3.4.0->python-keystoneclient)\n",
      "  Downloading iso8601-2.1.0-py3-none-any.whl.metadata (3.7 kB)\n",
      "Collecting os-service-types>=1.2.0 (from keystoneauth1>=3.4.0->python-keystoneclient)\n",
      "  Downloading os_service_types-1.7.0-py2.py3-none-any.whl.metadata (1.7 kB)\n",
      "Collecting typing-extensions>=4.12 (from keystoneauth1>=3.4.0->python-keystoneclient)\n",
      "  Downloading typing_extensions-4.12.2-py3-none-any.whl.metadata (3.0 kB)\n",
      "Collecting PyYAML>=5.1 (from oslo.config>=5.2.0->python-keystoneclient)\n",
      "  Downloading PyYAML-6.0.2-cp312-cp312-manylinux_2_17_x86_64.manylinux2014_x86_64.whl.metadata (2.1 kB)\n",
      "Collecting netaddr>=0.7.18 (from oslo.config>=5.2.0->python-keystoneclient)\n",
      "  Downloading netaddr-1.3.0-py3-none-any.whl.metadata (5.0 kB)\n",
      "Collecting rfc3986>=1.2.0 (from oslo.config>=5.2.0->python-keystoneclient)\n",
      "  Downloading rfc3986-2.0.0-py2.py3-none-any.whl.metadata (6.6 kB)\n",
      "Collecting msgpack>=0.5.2 (from oslo.serialization>=2.18.0->python-keystoneclient)\n",
      "  Downloading msgpack-1.1.0-cp312-cp312-manylinux_2_17_x86_64.manylinux2014_x86_64.whl.metadata (8.4 kB)\n",
      "Collecting tzdata>=2022.4 (from oslo.serialization>=2.18.0->python-keystoneclient)\n",
      "  Downloading tzdata-2025.1-py2.py3-none-any.whl.metadata (1.4 kB)\n",
      "Collecting psutil>=3.2.2 (from oslo.utils>=3.33.0->python-keystoneclient)\n",
      "  Downloading psutil-6.1.1-cp36-abi3-manylinux_2_12_x86_64.manylinux2010_x86_64.manylinux_2_17_x86_64.manylinux2014_x86_64.whl.metadata (22 kB)\n",
      "Collecting pyparsing>=2.1.0 (from oslo.utils>=3.33.0->python-keystoneclient)\n",
      "  Downloading pyparsing-3.2.1-py3-none-any.whl.metadata (5.0 kB)\n",
      "Requirement already satisfied: charset-normalizer<4,>=2 in ./myenv/lib/python3.12/site-packages (from requests>=2.14.2->python-keystoneclient) (3.4.1)\n",
      "Requirement already satisfied: idna<4,>=2.5 in ./myenv/lib/python3.12/site-packages (from requests>=2.14.2->python-keystoneclient) (3.10)\n",
      "Requirement already satisfied: urllib3<3,>=1.21.1 in ./myenv/lib/python3.12/site-packages (from requests>=2.14.2->python-keystoneclient) (2.3.0)\n",
      "Requirement already satisfied: certifi>=2017.4.17 in ./myenv/lib/python3.12/site-packages (from requests>=2.14.2->python-keystoneclient) (2024.12.14)\n",
      "Downloading python_keystoneclient-5.5.0-py3-none-any.whl (397 kB)\n",
      "   ━━━━━━━━━━━━━━━━━━━━━━━━━━━━━━━━━━━━━━━━ 397.2/397.2 kB 7.5 MB/s eta 0:00:00\n",
      "Downloading debtcollector-3.0.0-py3-none-any.whl (23 kB)\n",
      "Downloading keystoneauth1-5.9.1-py3-none-any.whl (341 kB)\n",
      "   ━━━━━━━━━━━━━━━━━━━━━━━━━━━━━━━━━━━━━━━━ 341.6/341.6 kB 19.9 MB/s eta 0:00:00\n",
      "Downloading oslo.config-9.7.0-py3-none-any.whl (131 kB)\n",
      "   ━━━━━━━━━━━━━━━━━━━━━━━━━━━━━━━━━━━━━━━━ 131.8/131.8 kB 11.2 MB/s eta 0:00:00\n",
      "Downloading oslo.i18n-6.5.0-py3-none-any.whl (46 kB)\n",
      "   ━━━━━━━━━━━━━━━━━━━━━━━━━━━━━━━━━━━━━━━━ 46.8/46.8 kB 3.6 MB/s eta 0:00:00\n",
      "Downloading oslo.serialization-5.6.0-py3-none-any.whl (26 kB)\n",
      "Downloading oslo.utils-8.0.0-py3-none-any.whl (132 kB)\n",
      "   ━━━━━━━━━━━━━━━━━━━━━━━━━━━━━━━━━━━━━━━━ 132.9/132.9 kB 11.1 MB/s eta 0:00:00\n",
      "Downloading packaging-24.2-py3-none-any.whl (65 kB)\n",
      "   ━━━━━━━━━━━━━━━━━━━━━━━━━━━━━━━━━━━━━━━━ 65.5/65.5 kB 6.1 MB/s eta 0:00:00\n",
      "Downloading pbr-6.1.0-py2.py3-none-any.whl (108 kB)\n",
      "   ━━━━━━━━━━━━━━━━━━━━━━━━━━━━━━━━━━━━━━━━ 108.5/108.5 kB 9.6 MB/s eta 0:00:00\n",
      "Downloading stevedore-5.4.0-py3-none-any.whl (49 kB)\n",
      "   ━━━━━━━━━━━━━━━━━━━━━━━━━━━━━━━━━━━━━━━━ 49.5/49.5 kB 4.0 MB/s eta 0:00:00\n",
      "Downloading iso8601-2.1.0-py3-none-any.whl (7.5 kB)\n",
      "Downloading msgpack-1.1.0-cp312-cp312-manylinux_2_17_x86_64.manylinux2014_x86_64.whl (401 kB)\n",
      "   ━━━━━━━━━━━━━━━━━━━━━━━━━━━━━━━━━━━━━━━━ 401.4/401.4 kB 26.0 MB/s eta 0:00:00\n",
      "Downloading netaddr-1.3.0-py3-none-any.whl (2.3 MB)\n",
      "   ━━━━━━━━━━━━━━━━━━━━━━━━━━━━━━━━━━━━━━━━ 2.3/2.3 MB 11.9 MB/s eta 0:00:00\n",
      "Downloading os_service_types-1.7.0-py2.py3-none-any.whl (24 kB)\n",
      "Downloading psutil-6.1.1-cp36-abi3-manylinux_2_12_x86_64.manylinux2010_x86_64.manylinux_2_17_x86_64.manylinux2014_x86_64.whl (287 kB)\n",
      "   ━━━━━━━━━━━━━━━━━━━━━━━━━━━━━━━━━━━━━━━━ 287.5/287.5 kB 20.8 MB/s eta 0:00:00\n",
      "Downloading pyparsing-3.2.1-py3-none-any.whl (107 kB)\n",
      "   ━━━━━━━━━━━━━━━━━━━━━━━━━━━━━━━━━━━━━━━━ 107.7/107.7 kB 10.7 MB/s eta 0:00:00\n",
      "Downloading PyYAML-6.0.2-cp312-cp312-manylinux_2_17_x86_64.manylinux2014_x86_64.whl (767 kB)\n",
      "   ━━━━━━━━━━━━━━━━━━━━━━━━━━━━━━━━━━━━━━━━ 767.5/767.5 kB 40.7 MB/s eta 0:00:00\n",
      "Downloading rfc3986-2.0.0-py2.py3-none-any.whl (31 kB)\n",
      "Downloading typing_extensions-4.12.2-py3-none-any.whl (37 kB)\n",
      "Downloading tzdata-2025.1-py2.py3-none-any.whl (346 kB)\n",
      "   ━━━━━━━━━━━━━━━━━━━━━━━━━━━━━━━━━━━━━━━━ 346.8/346.8 kB 8.6 MB/s eta 0:00:00\n",
      "Downloading wrapt-1.17.2-cp312-cp312-manylinux_2_5_x86_64.manylinux1_x86_64.manylinux_2_17_x86_64.manylinux2014_x86_64.whl (89 kB)\n",
      "   ━━━━━━━━━━━━━━━━━━━━━━━━━━━━━━━━━━━━━━━━ 89.2/89.2 kB 8.2 MB/s eta 0:00:00\n",
      "Installing collected packages: wrapt, tzdata, typing-extensions, rfc3986, PyYAML, pyparsing, psutil, pbr, packaging, netaddr, msgpack, iso8601, stevedore, oslo.i18n, os-service-types, debtcollector, oslo.utils, oslo.config, keystoneauth1, oslo.serialization, python-keystoneclient\n",
      "Successfully installed PyYAML-6.0.2 debtcollector-3.0.0 iso8601-2.1.0 keystoneauth1-5.9.1 msgpack-1.1.0 netaddr-1.3.0 os-service-types-1.7.0 oslo.config-9.7.0 oslo.i18n-6.5.0 oslo.serialization-5.6.0 oslo.utils-8.0.0 packaging-24.2 pbr-6.1.0 psutil-6.1.1 pyparsing-3.2.1 python-keystoneclient-5.5.0 rfc3986-2.0.0 stevedore-5.4.0 typing-extensions-4.12.2 tzdata-2025.1 wrapt-1.17.2\n"
     ]
    },
    {
     "data": {
      "text/plain": [
       "<Result cmd='source myenv/bin/activate; pip install python-swiftclient; pip install python-keystoneclient' exited=0>"
      ]
     },
     "execution_count": 54,
     "metadata": {},
     "output_type": "execute_result"
    }
   ],
   "source": [
    "primary_remote.run(\"source myenv/bin/activate; pip install python-swiftclient; pip install python-keystoneclient\")\n"
   ]
  },
  {
   "cell_type": "markdown",
   "id": "8d8268e6-a1a1-4623-8d06-b1e9f6c298d0",
   "metadata": {},
   "source": [
    "First we will create a sample text file and upload + download it from the object store to test it."
   ]
  },
  {
   "cell_type": "code",
   "execution_count": 55,
   "id": "cb5cce7e-9640-4628-902b-072bacdd90d3",
   "metadata": {
    "tags": []
   },
   "outputs": [
    {
     "data": {
      "text/plain": [
       "<Result cmd=\"echo 'This is a sample text file for the CHI@TACC object store.' > sample-file.txt\" exited=0>"
      ]
     },
     "execution_count": 55,
     "metadata": {},
     "output_type": "execute_result"
    }
   ],
   "source": [
    "primary_remote.run(\"echo 'This is a sample text file for the CHI@TACC object store.' > sample-file.txt\")"
   ]
  },
  {
   "cell_type": "markdown",
   "id": "fc895fba-24ac-4626-b50b-f1bcb0dc3378",
   "metadata": {},
   "source": [
    "You can access the Object Store from instances running on CHI@TACC and CHI@UC. Each region has its own store, meaning that objects uploaded to one are not visible to the other. In general you should use the store local to the region where your instances are running for the best performance. Additionally, you can also access the Object Store from the CHI@TACC or CHI@UC web interfaces under the Object Store panel.\n",
    "\n",
    "#### Since we are using the KVM@TACC site which does not have an Object Store we will have to use the CHI@TACC Object Store along with application credentials and then use an OpenStack RC file to acces the Obj Store. ####\n",
    "\n",
    "Follow the instructions on the link below to create your application credentials:\n",
    "\n",
    "https://chameleoncloud.readthedocs.io/en/latest/technical/cli.html#creating-an-application-credential\n",
    "\n",
    "Alternatively go to:\n",
    "https://chameleoncloud.org/user/dashboard/ > Experiment > CHI@TACC > Identity > Apllication Credentials > + Create Application Credentials\n",
    "\n",
    "Use the following to populate it:\n",
    "\n",
    "Name: \"batch_data_artifact\"\n",
    "\n",
    "Secret: here you can set your own password\n",
    "\n",
    "Roles: click on \"member\" \n",
    "\n",
    "and then click on \"Create Application credentials\" button\n",
    "\n",
    "You will then be prompted with a dialogue box to \"Download openrc file\"\n",
    "\n",
    "Thenn scp the openrc file into your node using the scp command below\n",
    "\n",
    "replace the path with your path\n"
   ]
  },
  {
   "cell_type": "code",
   "execution_count": 59,
   "id": "abc0ee77-a3f0-4d56-92fe-6677d09fc4e0",
   "metadata": {
    "tags": []
   },
   "outputs": [],
   "source": [
    "# scp from local system\n",
    "print(f'scp -i ~/.ssh/id_rsa_chameleon /path/to/app-cred-batch_data_artifact-openrc.sh cc@{server_ips[0]}:/home/cc/')\n"
   ]
  },
  {
   "cell_type": "markdown",
   "id": "7db73525-72a7-432d-947d-fc9c1547eb27",
   "metadata": {},
   "source": [
    "Alternatively upload the openrc file here, open up a terminal via file > new > terminal and scp it to your node replace the path in the command below"
   ]
  },
  {
   "cell_type": "code",
   "execution_count": 57,
   "id": "c47f0086-16c2-4c20-b7a5-cf19c4a60141",
   "metadata": {
    "tags": []
   },
   "outputs": [
    {
     "name": "stdout",
     "output_type": "stream",
     "text": [
      "scp /path/to/app-cred-batch_data_artifact-openrc.sh cc@129.114.26.118:/home/cc/\n"
     ]
    }
   ],
   "source": [
    "# scp fter uploading file to chameleon\n",
    "print(f'scp /path/to/app-cred-batch_data_artifact-openrc.sh cc@{server_ips[0]}:/home/cc/')"
   ]
  },
  {
   "cell_type": "code",
   "execution_count": 9,
   "id": "250174af-75a6-4728-9c8d-70b5a76392e0",
   "metadata": {
    "tags": []
   },
   "outputs": [],
   "source": [
    "container_name = \"batch-data-container\" #This is the container we created in the previous step: create_objStore.ipynb\n",
    "#Upload the file to ObjStore\n",
    "primary_remote.run('source myenv/bin/activate; source app-cred-batch_data_artifact-openrc.sh && swift --os-auth-type v3applicationcredential upload '+container_name+' sample-file.txt')"
   ]
  },
  {
   "cell_type": "code",
   "execution_count": 61,
   "id": "0e3d9799-f393-42c1-8ba5-2a1e7fcfaa59",
   "metadata": {
    "tags": []
   },
   "outputs": [
    {
     "name": "stdout",
     "output_type": "stream",
     "text": [
      "app-cred-batch_data_artifact-openrc.sh\n",
      "myenv\n",
      "openrc\n"
     ]
    },
    {
     "data": {
      "text/plain": [
       "<Result cmd='rm sample-file.txt; ls' exited=0>"
      ]
     },
     "execution_count": 61,
     "metadata": {},
     "output_type": "execute_result"
    }
   ],
   "source": [
    "primary_remote.run(\"rm sample-file.txt; ls\")"
   ]
  },
  {
   "cell_type": "code",
   "execution_count": 62,
   "id": "41c523bb-26ea-4764-88ae-5497d9e24b9d",
   "metadata": {
    "tags": []
   },
   "outputs": [
    {
     "name": "stdout",
     "output_type": "stream",
     "text": [
      "sample-file.txt [auth 0.312s, headers 0.442s, total 0.443s, 0.000 MB/s]\n",
      "app-cred-batch_data_artifact-openrc.sh\n",
      "myenv\n",
      "openrc\n",
      "sample-file.txt\n"
     ]
    },
    {
     "data": {
      "text/plain": [
       "<Result cmd='source myenv/bin/activate; source app-cred-batch_data_artifact-openrc.sh && swift --os-auth-type v3applicationcredential download batch-data-container sample-file.txt; ls' exited=0>"
      ]
     },
     "execution_count": 62,
     "metadata": {},
     "output_type": "execute_result"
    }
   ],
   "source": [
    "#Download the file from ObjStore\n",
    "primary_remote.run('source myenv/bin/activate; source app-cred-batch_data_artifact-openrc.sh && swift --os-auth-type v3applicationcredential download '+container_name+' sample-file.txt; ls')"
   ]
  },
  {
   "cell_type": "code",
   "execution_count": 66,
   "id": "d7ff8ff6-8803-4840-a2ea-fe1999ede185",
   "metadata": {
    "tags": []
   },
   "outputs": [
    {
     "name": "stdout",
     "output_type": "stream",
     "text": [
      "sample-file.txt\n"
     ]
    },
    {
     "data": {
      "text/plain": [
       "<Result cmd='source myenv/bin/activate; source app-cred-batch_data_artifact-openrc.sh && swift --os-auth-type v3applicationcredential delete batch-data-container sample-file.txt' exited=0>"
      ]
     },
     "execution_count": 66,
     "metadata": {},
     "output_type": "execute_result"
    }
   ],
   "source": [
    "#Delete the sample file from the ObjStore\n",
    "primary_remote.run('source myenv/bin/activate; source app-cred-batch_data_artifact-openrc.sh && swift --os-auth-type v3applicationcredential delete '+container_name+' sample-file.txt')"
   ]
  },
  {
   "cell_type": "markdown",
   "id": "cc55bf7e-67f5-44df-a691-3997e15f6b15",
   "metadata": {},
   "source": [
    "## Download the data"
   ]
  },
  {
   "cell_type": "markdown",
   "id": "22f0642b-4868-4fed-b36b-1874bb01939b",
   "metadata": {},
   "source": [
    "I this experiment we will be using: \n",
    "\n",
    "Airline On-Time Performance Data from the US Bureau of Transportation Statistics (BTS):\n",
    "\n",
    "For nearly 40 years, all major US air carriers have been required to file statistics about each of their domestic flights with the BTS. The data they are required to file includes the scheduled departure and arrival times as well as the actual departure and arrival times. From the scheduled and actual arrival times, the arrival delay associated with each flight can be calculated. Therefore, this dataset can give us the true value or “label” for building a model to predict arrival delay."
   ]
  },
  {
   "cell_type": "code",
   "execution_count": 28,
   "id": "17ddf18b-6f52-40bb-9827-2d74f0ee74c2",
   "metadata": {},
   "outputs": [
    {
     "ename": "KeyboardInterrupt",
     "evalue": "",
     "output_type": "error",
     "traceback": [
      "\u001b[0;31m---------------------------------------------------------------------------\u001b[0m",
      "\u001b[0;31mKeyboardInterrupt\u001b[0m                         Traceback (most recent call last)",
      "\u001b[0;32m/tmp/ipykernel_214/964564687.py\u001b[0m in \u001b[0;36m<cell line: 2>\u001b[0;34m()\u001b[0m\n\u001b[1;32m      1\u001b[0m \u001b[0;31m# We will be using a bash script to download the data #git clone or wgets the bash script and\u001b[0m\u001b[0;34m\u001b[0m\u001b[0;34m\u001b[0m\u001b[0m\n\u001b[0;32m----> 2\u001b[0;31m \u001b[0mprimary_remote\u001b[0m\u001b[0;34m.\u001b[0m\u001b[0mrun\u001b[0m\u001b[0;34m(\u001b[0m\u001b[0;34m\"wget ...\"\u001b[0m\u001b[0;34m)\u001b[0m\u001b[0;34m\u001b[0m\u001b[0;34m\u001b[0m\u001b[0m\n\u001b[0m",
      "\u001b[0;32m/opt/conda/lib/python3.10/site-packages/decorator.py\u001b[0m in \u001b[0;36mfun\u001b[0;34m(*args, **kw)\u001b[0m\n\u001b[1;32m    230\u001b[0m             \u001b[0;32mif\u001b[0m \u001b[0;32mnot\u001b[0m \u001b[0mkwsyntax\u001b[0m\u001b[0;34m:\u001b[0m\u001b[0;34m\u001b[0m\u001b[0;34m\u001b[0m\u001b[0m\n\u001b[1;32m    231\u001b[0m                 \u001b[0margs\u001b[0m\u001b[0;34m,\u001b[0m \u001b[0mkw\u001b[0m \u001b[0;34m=\u001b[0m \u001b[0mfix\u001b[0m\u001b[0;34m(\u001b[0m\u001b[0margs\u001b[0m\u001b[0;34m,\u001b[0m \u001b[0mkw\u001b[0m\u001b[0;34m,\u001b[0m \u001b[0msig\u001b[0m\u001b[0;34m)\u001b[0m\u001b[0;34m\u001b[0m\u001b[0;34m\u001b[0m\u001b[0m\n\u001b[0;32m--> 232\u001b[0;31m             \u001b[0;32mreturn\u001b[0m \u001b[0mcaller\u001b[0m\u001b[0;34m(\u001b[0m\u001b[0mfunc\u001b[0m\u001b[0;34m,\u001b[0m \u001b[0;34m*\u001b[0m\u001b[0;34m(\u001b[0m\u001b[0mextras\u001b[0m \u001b[0;34m+\u001b[0m \u001b[0margs\u001b[0m\u001b[0;34m)\u001b[0m\u001b[0;34m,\u001b[0m \u001b[0;34m**\u001b[0m\u001b[0mkw\u001b[0m\u001b[0;34m)\u001b[0m\u001b[0;34m\u001b[0m\u001b[0;34m\u001b[0m\u001b[0m\n\u001b[0m\u001b[1;32m    233\u001b[0m     \u001b[0mfun\u001b[0m\u001b[0;34m.\u001b[0m\u001b[0m__name__\u001b[0m \u001b[0;34m=\u001b[0m \u001b[0mfunc\u001b[0m\u001b[0;34m.\u001b[0m\u001b[0m__name__\u001b[0m\u001b[0;34m\u001b[0m\u001b[0;34m\u001b[0m\u001b[0m\n\u001b[1;32m    234\u001b[0m     \u001b[0mfun\u001b[0m\u001b[0;34m.\u001b[0m\u001b[0m__doc__\u001b[0m \u001b[0;34m=\u001b[0m \u001b[0mfunc\u001b[0m\u001b[0;34m.\u001b[0m\u001b[0m__doc__\u001b[0m\u001b[0;34m\u001b[0m\u001b[0;34m\u001b[0m\u001b[0m\n",
      "\u001b[0;32m/opt/conda/lib/python3.10/site-packages/fabric/connection.py\u001b[0m in \u001b[0;36mopens\u001b[0;34m(method, self, *args, **kwargs)\u001b[0m\n\u001b[1;32m     21\u001b[0m \u001b[0;32mdef\u001b[0m \u001b[0mopens\u001b[0m\u001b[0;34m(\u001b[0m\u001b[0mmethod\u001b[0m\u001b[0;34m,\u001b[0m \u001b[0mself\u001b[0m\u001b[0;34m,\u001b[0m \u001b[0;34m*\u001b[0m\u001b[0margs\u001b[0m\u001b[0;34m,\u001b[0m \u001b[0;34m**\u001b[0m\u001b[0mkwargs\u001b[0m\u001b[0;34m)\u001b[0m\u001b[0;34m:\u001b[0m\u001b[0;34m\u001b[0m\u001b[0;34m\u001b[0m\u001b[0m\n\u001b[1;32m     22\u001b[0m     \u001b[0mself\u001b[0m\u001b[0;34m.\u001b[0m\u001b[0mopen\u001b[0m\u001b[0;34m(\u001b[0m\u001b[0;34m)\u001b[0m\u001b[0;34m\u001b[0m\u001b[0;34m\u001b[0m\u001b[0m\n\u001b[0;32m---> 23\u001b[0;31m     \u001b[0;32mreturn\u001b[0m \u001b[0mmethod\u001b[0m\u001b[0;34m(\u001b[0m\u001b[0mself\u001b[0m\u001b[0;34m,\u001b[0m \u001b[0;34m*\u001b[0m\u001b[0margs\u001b[0m\u001b[0;34m,\u001b[0m \u001b[0;34m**\u001b[0m\u001b[0mkwargs\u001b[0m\u001b[0;34m)\u001b[0m\u001b[0;34m\u001b[0m\u001b[0;34m\u001b[0m\u001b[0m\n\u001b[0m\u001b[1;32m     24\u001b[0m \u001b[0;34m\u001b[0m\u001b[0m\n\u001b[1;32m     25\u001b[0m \u001b[0;34m\u001b[0m\u001b[0m\n",
      "\u001b[0;32m/opt/conda/lib/python3.10/site-packages/fabric/connection.py\u001b[0m in \u001b[0;36mrun\u001b[0;34m(self, command, **kwargs)\u001b[0m\n\u001b[1;32m    761\u001b[0m         \u001b[0;34m.\u001b[0m\u001b[0;34m.\u001b[0m \u001b[0mversionadded\u001b[0m\u001b[0;34m:\u001b[0m\u001b[0;34m:\u001b[0m \u001b[0;36m2.0\u001b[0m\u001b[0;34m\u001b[0m\u001b[0;34m\u001b[0m\u001b[0m\n\u001b[1;32m    762\u001b[0m         \"\"\"\n\u001b[0;32m--> 763\u001b[0;31m         \u001b[0;32mreturn\u001b[0m \u001b[0mself\u001b[0m\u001b[0;34m.\u001b[0m\u001b[0m_run\u001b[0m\u001b[0;34m(\u001b[0m\u001b[0mself\u001b[0m\u001b[0;34m.\u001b[0m\u001b[0m_remote_runner\u001b[0m\u001b[0;34m(\u001b[0m\u001b[0;34m)\u001b[0m\u001b[0;34m,\u001b[0m \u001b[0mcommand\u001b[0m\u001b[0;34m,\u001b[0m \u001b[0;34m**\u001b[0m\u001b[0mkwargs\u001b[0m\u001b[0;34m)\u001b[0m\u001b[0;34m\u001b[0m\u001b[0;34m\u001b[0m\u001b[0m\n\u001b[0m\u001b[1;32m    764\u001b[0m \u001b[0;34m\u001b[0m\u001b[0m\n\u001b[1;32m    765\u001b[0m     \u001b[0;34m@\u001b[0m\u001b[0mopens\u001b[0m\u001b[0;34m\u001b[0m\u001b[0;34m\u001b[0m\u001b[0m\n",
      "\u001b[0;32m/opt/conda/lib/python3.10/site-packages/invoke/context.py\u001b[0m in \u001b[0;36m_run\u001b[0;34m(self, runner, command, **kwargs)\u001b[0m\n\u001b[1;32m    111\u001b[0m     ) -> Optional[Result]:\n\u001b[1;32m    112\u001b[0m         \u001b[0mcommand\u001b[0m \u001b[0;34m=\u001b[0m \u001b[0mself\u001b[0m\u001b[0;34m.\u001b[0m\u001b[0m_prefix_commands\u001b[0m\u001b[0;34m(\u001b[0m\u001b[0mcommand\u001b[0m\u001b[0;34m)\u001b[0m\u001b[0;34m\u001b[0m\u001b[0;34m\u001b[0m\u001b[0m\n\u001b[0;32m--> 113\u001b[0;31m         \u001b[0;32mreturn\u001b[0m \u001b[0mrunner\u001b[0m\u001b[0;34m.\u001b[0m\u001b[0mrun\u001b[0m\u001b[0;34m(\u001b[0m\u001b[0mcommand\u001b[0m\u001b[0;34m,\u001b[0m \u001b[0;34m**\u001b[0m\u001b[0mkwargs\u001b[0m\u001b[0;34m)\u001b[0m\u001b[0;34m\u001b[0m\u001b[0;34m\u001b[0m\u001b[0m\n\u001b[0m\u001b[1;32m    114\u001b[0m \u001b[0;34m\u001b[0m\u001b[0m\n\u001b[1;32m    115\u001b[0m     \u001b[0;32mdef\u001b[0m \u001b[0msudo\u001b[0m\u001b[0;34m(\u001b[0m\u001b[0mself\u001b[0m\u001b[0;34m,\u001b[0m \u001b[0mcommand\u001b[0m\u001b[0;34m:\u001b[0m \u001b[0mstr\u001b[0m\u001b[0;34m,\u001b[0m \u001b[0;34m**\u001b[0m\u001b[0mkwargs\u001b[0m\u001b[0;34m:\u001b[0m \u001b[0mAny\u001b[0m\u001b[0;34m)\u001b[0m \u001b[0;34m->\u001b[0m \u001b[0mOptional\u001b[0m\u001b[0;34m[\u001b[0m\u001b[0mResult\u001b[0m\u001b[0;34m]\u001b[0m\u001b[0;34m:\u001b[0m\u001b[0;34m\u001b[0m\u001b[0;34m\u001b[0m\u001b[0m\n",
      "\u001b[0;32m/opt/conda/lib/python3.10/site-packages/fabric/runners.py\u001b[0m in \u001b[0;36mrun\u001b[0;34m(self, command, **kwargs)\u001b[0m\n\u001b[1;32m     81\u001b[0m     \u001b[0;32mdef\u001b[0m \u001b[0mrun\u001b[0m\u001b[0;34m(\u001b[0m\u001b[0mself\u001b[0m\u001b[0;34m,\u001b[0m \u001b[0mcommand\u001b[0m\u001b[0;34m,\u001b[0m \u001b[0;34m**\u001b[0m\u001b[0mkwargs\u001b[0m\u001b[0;34m)\u001b[0m\u001b[0;34m:\u001b[0m\u001b[0;34m\u001b[0m\u001b[0;34m\u001b[0m\u001b[0m\n\u001b[1;32m     82\u001b[0m         \u001b[0mkwargs\u001b[0m\u001b[0;34m.\u001b[0m\u001b[0msetdefault\u001b[0m\u001b[0;34m(\u001b[0m\u001b[0;34m\"replace_env\"\u001b[0m\u001b[0;34m,\u001b[0m \u001b[0;32mTrue\u001b[0m\u001b[0;34m)\u001b[0m\u001b[0;34m\u001b[0m\u001b[0;34m\u001b[0m\u001b[0m\n\u001b[0;32m---> 83\u001b[0;31m         \u001b[0;32mreturn\u001b[0m \u001b[0msuper\u001b[0m\u001b[0;34m(\u001b[0m\u001b[0;34m)\u001b[0m\u001b[0;34m.\u001b[0m\u001b[0mrun\u001b[0m\u001b[0;34m(\u001b[0m\u001b[0mcommand\u001b[0m\u001b[0;34m,\u001b[0m \u001b[0;34m**\u001b[0m\u001b[0mkwargs\u001b[0m\u001b[0;34m)\u001b[0m\u001b[0;34m\u001b[0m\u001b[0;34m\u001b[0m\u001b[0m\n\u001b[0m\u001b[1;32m     84\u001b[0m \u001b[0;34m\u001b[0m\u001b[0m\n\u001b[1;32m     85\u001b[0m     \u001b[0;32mdef\u001b[0m \u001b[0mread_proc_stdout\u001b[0m\u001b[0;34m(\u001b[0m\u001b[0mself\u001b[0m\u001b[0;34m,\u001b[0m \u001b[0mnum_bytes\u001b[0m\u001b[0;34m)\u001b[0m\u001b[0;34m:\u001b[0m\u001b[0;34m\u001b[0m\u001b[0;34m\u001b[0m\u001b[0m\n",
      "\u001b[0;32m/opt/conda/lib/python3.10/site-packages/invoke/runners.py\u001b[0m in \u001b[0;36mrun\u001b[0;34m(self, command, **kwargs)\u001b[0m\n\u001b[1;32m    393\u001b[0m         \"\"\"\n\u001b[1;32m    394\u001b[0m         \u001b[0;32mtry\u001b[0m\u001b[0;34m:\u001b[0m\u001b[0;34m\u001b[0m\u001b[0;34m\u001b[0m\u001b[0m\n\u001b[0;32m--> 395\u001b[0;31m             \u001b[0;32mreturn\u001b[0m \u001b[0mself\u001b[0m\u001b[0;34m.\u001b[0m\u001b[0m_run_body\u001b[0m\u001b[0;34m(\u001b[0m\u001b[0mcommand\u001b[0m\u001b[0;34m,\u001b[0m \u001b[0;34m**\u001b[0m\u001b[0mkwargs\u001b[0m\u001b[0;34m)\u001b[0m\u001b[0;34m\u001b[0m\u001b[0;34m\u001b[0m\u001b[0m\n\u001b[0m\u001b[1;32m    396\u001b[0m         \u001b[0;32mfinally\u001b[0m\u001b[0;34m:\u001b[0m\u001b[0;34m\u001b[0m\u001b[0;34m\u001b[0m\u001b[0m\n\u001b[1;32m    397\u001b[0m             \u001b[0;32mif\u001b[0m \u001b[0;32mnot\u001b[0m \u001b[0;34m(\u001b[0m\u001b[0mself\u001b[0m\u001b[0;34m.\u001b[0m\u001b[0m_asynchronous\u001b[0m \u001b[0;32mor\u001b[0m \u001b[0mself\u001b[0m\u001b[0;34m.\u001b[0m\u001b[0m_disowned\u001b[0m\u001b[0;34m)\u001b[0m\u001b[0;34m:\u001b[0m\u001b[0;34m\u001b[0m\u001b[0;34m\u001b[0m\u001b[0m\n",
      "\u001b[0;32m/opt/conda/lib/python3.10/site-packages/invoke/runners.py\u001b[0m in \u001b[0;36m_run_body\u001b[0;34m(self, command, **kwargs)\u001b[0m\n\u001b[1;32m    438\u001b[0m             )\n\u001b[1;32m    439\u001b[0m         \u001b[0;31m# Start executing the actual command (runs in background)\u001b[0m\u001b[0;34m\u001b[0m\u001b[0;34m\u001b[0m\u001b[0m\n\u001b[0;32m--> 440\u001b[0;31m         \u001b[0mself\u001b[0m\u001b[0;34m.\u001b[0m\u001b[0mstart\u001b[0m\u001b[0;34m(\u001b[0m\u001b[0mcommand\u001b[0m\u001b[0;34m,\u001b[0m \u001b[0mself\u001b[0m\u001b[0;34m.\u001b[0m\u001b[0mopts\u001b[0m\u001b[0;34m[\u001b[0m\u001b[0;34m\"shell\"\u001b[0m\u001b[0;34m]\u001b[0m\u001b[0;34m,\u001b[0m \u001b[0mself\u001b[0m\u001b[0;34m.\u001b[0m\u001b[0menv\u001b[0m\u001b[0;34m)\u001b[0m\u001b[0;34m\u001b[0m\u001b[0;34m\u001b[0m\u001b[0m\n\u001b[0m\u001b[1;32m    441\u001b[0m         \u001b[0;31m# If disowned, we just stop here - no threads, no timer, no error\u001b[0m\u001b[0;34m\u001b[0m\u001b[0;34m\u001b[0m\u001b[0m\n\u001b[1;32m    442\u001b[0m         \u001b[0;31m# checking, nada.\u001b[0m\u001b[0;34m\u001b[0m\u001b[0;34m\u001b[0m\u001b[0m\n",
      "\u001b[0;32m/opt/conda/lib/python3.10/site-packages/fabric/runners.py\u001b[0m in \u001b[0;36mstart\u001b[0;34m(self, command, shell, env, timeout)\u001b[0m\n\u001b[1;32m     47\u001b[0m \u001b[0;34m\u001b[0m\u001b[0m\n\u001b[1;32m     48\u001b[0m     \u001b[0;32mdef\u001b[0m \u001b[0mstart\u001b[0m\u001b[0;34m(\u001b[0m\u001b[0mself\u001b[0m\u001b[0;34m,\u001b[0m \u001b[0mcommand\u001b[0m\u001b[0;34m,\u001b[0m \u001b[0mshell\u001b[0m\u001b[0;34m,\u001b[0m \u001b[0menv\u001b[0m\u001b[0;34m,\u001b[0m \u001b[0mtimeout\u001b[0m\u001b[0;34m=\u001b[0m\u001b[0;32mNone\u001b[0m\u001b[0;34m)\u001b[0m\u001b[0;34m:\u001b[0m\u001b[0;34m\u001b[0m\u001b[0;34m\u001b[0m\u001b[0m\n\u001b[0;32m---> 49\u001b[0;31m         \u001b[0mself\u001b[0m\u001b[0;34m.\u001b[0m\u001b[0mchannel\u001b[0m \u001b[0;34m=\u001b[0m \u001b[0mself\u001b[0m\u001b[0;34m.\u001b[0m\u001b[0mcontext\u001b[0m\u001b[0;34m.\u001b[0m\u001b[0mcreate_session\u001b[0m\u001b[0;34m(\u001b[0m\u001b[0;34m)\u001b[0m\u001b[0;34m\u001b[0m\u001b[0;34m\u001b[0m\u001b[0m\n\u001b[0m\u001b[1;32m     50\u001b[0m         \u001b[0;32mif\u001b[0m \u001b[0mself\u001b[0m\u001b[0;34m.\u001b[0m\u001b[0musing_pty\u001b[0m\u001b[0;34m:\u001b[0m\u001b[0;34m\u001b[0m\u001b[0;34m\u001b[0m\u001b[0m\n\u001b[1;32m     51\u001b[0m             \u001b[0;31m# Set initial size to match local size\u001b[0m\u001b[0;34m\u001b[0m\u001b[0;34m\u001b[0m\u001b[0m\n",
      "\u001b[0;32m/opt/conda/lib/python3.10/site-packages/decorator.py\u001b[0m in \u001b[0;36mfun\u001b[0;34m(*args, **kw)\u001b[0m\n\u001b[1;32m    230\u001b[0m             \u001b[0;32mif\u001b[0m \u001b[0;32mnot\u001b[0m \u001b[0mkwsyntax\u001b[0m\u001b[0;34m:\u001b[0m\u001b[0;34m\u001b[0m\u001b[0;34m\u001b[0m\u001b[0m\n\u001b[1;32m    231\u001b[0m                 \u001b[0margs\u001b[0m\u001b[0;34m,\u001b[0m \u001b[0mkw\u001b[0m \u001b[0;34m=\u001b[0m \u001b[0mfix\u001b[0m\u001b[0;34m(\u001b[0m\u001b[0margs\u001b[0m\u001b[0;34m,\u001b[0m \u001b[0mkw\u001b[0m\u001b[0;34m,\u001b[0m \u001b[0msig\u001b[0m\u001b[0;34m)\u001b[0m\u001b[0;34m\u001b[0m\u001b[0;34m\u001b[0m\u001b[0m\n\u001b[0;32m--> 232\u001b[0;31m             \u001b[0;32mreturn\u001b[0m \u001b[0mcaller\u001b[0m\u001b[0;34m(\u001b[0m\u001b[0mfunc\u001b[0m\u001b[0;34m,\u001b[0m \u001b[0;34m*\u001b[0m\u001b[0;34m(\u001b[0m\u001b[0mextras\u001b[0m \u001b[0;34m+\u001b[0m \u001b[0margs\u001b[0m\u001b[0;34m)\u001b[0m\u001b[0;34m,\u001b[0m \u001b[0;34m**\u001b[0m\u001b[0mkw\u001b[0m\u001b[0;34m)\u001b[0m\u001b[0;34m\u001b[0m\u001b[0;34m\u001b[0m\u001b[0m\n\u001b[0m\u001b[1;32m    233\u001b[0m     \u001b[0mfun\u001b[0m\u001b[0;34m.\u001b[0m\u001b[0m__name__\u001b[0m \u001b[0;34m=\u001b[0m \u001b[0mfunc\u001b[0m\u001b[0;34m.\u001b[0m\u001b[0m__name__\u001b[0m\u001b[0;34m\u001b[0m\u001b[0;34m\u001b[0m\u001b[0m\n\u001b[1;32m    234\u001b[0m     \u001b[0mfun\u001b[0m\u001b[0;34m.\u001b[0m\u001b[0m__doc__\u001b[0m \u001b[0;34m=\u001b[0m \u001b[0mfunc\u001b[0m\u001b[0;34m.\u001b[0m\u001b[0m__doc__\u001b[0m\u001b[0;34m\u001b[0m\u001b[0;34m\u001b[0m\u001b[0m\n",
      "\u001b[0;32m/opt/conda/lib/python3.10/site-packages/fabric/connection.py\u001b[0m in \u001b[0;36mopens\u001b[0;34m(method, self, *args, **kwargs)\u001b[0m\n\u001b[1;32m     21\u001b[0m \u001b[0;32mdef\u001b[0m \u001b[0mopens\u001b[0m\u001b[0;34m(\u001b[0m\u001b[0mmethod\u001b[0m\u001b[0;34m,\u001b[0m \u001b[0mself\u001b[0m\u001b[0;34m,\u001b[0m \u001b[0;34m*\u001b[0m\u001b[0margs\u001b[0m\u001b[0;34m,\u001b[0m \u001b[0;34m**\u001b[0m\u001b[0mkwargs\u001b[0m\u001b[0;34m)\u001b[0m\u001b[0;34m:\u001b[0m\u001b[0;34m\u001b[0m\u001b[0;34m\u001b[0m\u001b[0m\n\u001b[1;32m     22\u001b[0m     \u001b[0mself\u001b[0m\u001b[0;34m.\u001b[0m\u001b[0mopen\u001b[0m\u001b[0;34m(\u001b[0m\u001b[0;34m)\u001b[0m\u001b[0;34m\u001b[0m\u001b[0;34m\u001b[0m\u001b[0m\n\u001b[0;32m---> 23\u001b[0;31m     \u001b[0;32mreturn\u001b[0m \u001b[0mmethod\u001b[0m\u001b[0;34m(\u001b[0m\u001b[0mself\u001b[0m\u001b[0;34m,\u001b[0m \u001b[0;34m*\u001b[0m\u001b[0margs\u001b[0m\u001b[0;34m,\u001b[0m \u001b[0;34m**\u001b[0m\u001b[0mkwargs\u001b[0m\u001b[0;34m)\u001b[0m\u001b[0;34m\u001b[0m\u001b[0;34m\u001b[0m\u001b[0m\n\u001b[0m\u001b[1;32m     24\u001b[0m \u001b[0;34m\u001b[0m\u001b[0m\n\u001b[1;32m     25\u001b[0m \u001b[0;34m\u001b[0m\u001b[0m\n",
      "\u001b[0;32m/opt/conda/lib/python3.10/site-packages/fabric/connection.py\u001b[0m in \u001b[0;36mcreate_session\u001b[0;34m(self)\u001b[0m\n\u001b[1;32m    736\u001b[0m     \u001b[0;34m@\u001b[0m\u001b[0mopens\u001b[0m\u001b[0;34m\u001b[0m\u001b[0;34m\u001b[0m\u001b[0m\n\u001b[1;32m    737\u001b[0m     \u001b[0;32mdef\u001b[0m \u001b[0mcreate_session\u001b[0m\u001b[0;34m(\u001b[0m\u001b[0mself\u001b[0m\u001b[0;34m)\u001b[0m\u001b[0;34m:\u001b[0m\u001b[0;34m\u001b[0m\u001b[0;34m\u001b[0m\u001b[0m\n\u001b[0;32m--> 738\u001b[0;31m         \u001b[0mchannel\u001b[0m \u001b[0;34m=\u001b[0m \u001b[0mself\u001b[0m\u001b[0;34m.\u001b[0m\u001b[0mtransport\u001b[0m\u001b[0;34m.\u001b[0m\u001b[0mopen_session\u001b[0m\u001b[0;34m(\u001b[0m\u001b[0;34m)\u001b[0m\u001b[0;34m\u001b[0m\u001b[0;34m\u001b[0m\u001b[0m\n\u001b[0m\u001b[1;32m    739\u001b[0m         \u001b[0;32mif\u001b[0m \u001b[0mself\u001b[0m\u001b[0;34m.\u001b[0m\u001b[0mforward_agent\u001b[0m\u001b[0;34m:\u001b[0m\u001b[0;34m\u001b[0m\u001b[0;34m\u001b[0m\u001b[0m\n\u001b[1;32m    740\u001b[0m             \u001b[0mself\u001b[0m\u001b[0;34m.\u001b[0m\u001b[0m_agent_handler\u001b[0m \u001b[0;34m=\u001b[0m \u001b[0mAgentRequestHandler\u001b[0m\u001b[0;34m(\u001b[0m\u001b[0mchannel\u001b[0m\u001b[0;34m)\u001b[0m\u001b[0;34m\u001b[0m\u001b[0;34m\u001b[0m\u001b[0m\n",
      "\u001b[0;32m/opt/conda/lib/python3.10/site-packages/paramiko/transport.py\u001b[0m in \u001b[0;36mopen_session\u001b[0;34m(self, window_size, max_packet_size, timeout)\u001b[0m\n\u001b[1;32m    992\u001b[0m             \u001b[0mAdded\u001b[0m \u001b[0mthe\u001b[0m\u001b[0;31m \u001b[0m\u001b[0;31m`\u001b[0m\u001b[0;31m`\u001b[0m\u001b[0mwindow_size\u001b[0m\u001b[0;31m`\u001b[0m\u001b[0;31m`\u001b[0m \u001b[0;32mand\u001b[0m\u001b[0;31m \u001b[0m\u001b[0;31m`\u001b[0m\u001b[0;31m`\u001b[0m\u001b[0mmax_packet_size\u001b[0m\u001b[0;31m`\u001b[0m\u001b[0;31m`\u001b[0m \u001b[0marguments\u001b[0m\u001b[0;34m.\u001b[0m\u001b[0;34m\u001b[0m\u001b[0;34m\u001b[0m\u001b[0m\n\u001b[1;32m    993\u001b[0m         \"\"\"\n\u001b[0;32m--> 994\u001b[0;31m         return self.open_channel(\n\u001b[0m\u001b[1;32m    995\u001b[0m             \u001b[0;34m\"session\"\u001b[0m\u001b[0;34m,\u001b[0m\u001b[0;34m\u001b[0m\u001b[0;34m\u001b[0m\u001b[0m\n\u001b[1;32m    996\u001b[0m             \u001b[0mwindow_size\u001b[0m\u001b[0;34m=\u001b[0m\u001b[0mwindow_size\u001b[0m\u001b[0;34m,\u001b[0m\u001b[0;34m\u001b[0m\u001b[0;34m\u001b[0m\u001b[0m\n",
      "\u001b[0;32m/opt/conda/lib/python3.10/site-packages/paramiko/transport.py\u001b[0m in \u001b[0;36mopen_channel\u001b[0;34m(self, kind, dest_addr, src_addr, window_size, max_packet_size, timeout)\u001b[0m\n\u001b[1;32m   1118\u001b[0m         \u001b[0mstart_ts\u001b[0m \u001b[0;34m=\u001b[0m \u001b[0mtime\u001b[0m\u001b[0;34m.\u001b[0m\u001b[0mtime\u001b[0m\u001b[0;34m(\u001b[0m\u001b[0;34m)\u001b[0m\u001b[0;34m\u001b[0m\u001b[0;34m\u001b[0m\u001b[0m\n\u001b[1;32m   1119\u001b[0m         \u001b[0;32mwhile\u001b[0m \u001b[0;32mTrue\u001b[0m\u001b[0;34m:\u001b[0m\u001b[0;34m\u001b[0m\u001b[0;34m\u001b[0m\u001b[0m\n\u001b[0;32m-> 1120\u001b[0;31m             \u001b[0mevent\u001b[0m\u001b[0;34m.\u001b[0m\u001b[0mwait\u001b[0m\u001b[0;34m(\u001b[0m\u001b[0;36m0.1\u001b[0m\u001b[0;34m)\u001b[0m\u001b[0;34m\u001b[0m\u001b[0;34m\u001b[0m\u001b[0m\n\u001b[0m\u001b[1;32m   1121\u001b[0m             \u001b[0;32mif\u001b[0m \u001b[0;32mnot\u001b[0m \u001b[0mself\u001b[0m\u001b[0;34m.\u001b[0m\u001b[0mactive\u001b[0m\u001b[0;34m:\u001b[0m\u001b[0;34m\u001b[0m\u001b[0;34m\u001b[0m\u001b[0m\n\u001b[1;32m   1122\u001b[0m                 \u001b[0me\u001b[0m \u001b[0;34m=\u001b[0m \u001b[0mself\u001b[0m\u001b[0;34m.\u001b[0m\u001b[0mget_exception\u001b[0m\u001b[0;34m(\u001b[0m\u001b[0;34m)\u001b[0m\u001b[0;34m\u001b[0m\u001b[0;34m\u001b[0m\u001b[0m\n",
      "\u001b[0;32m/opt/conda/lib/python3.10/threading.py\u001b[0m in \u001b[0;36mwait\u001b[0;34m(self, timeout)\u001b[0m\n\u001b[1;32m    605\u001b[0m             \u001b[0msignaled\u001b[0m \u001b[0;34m=\u001b[0m \u001b[0mself\u001b[0m\u001b[0;34m.\u001b[0m\u001b[0m_flag\u001b[0m\u001b[0;34m\u001b[0m\u001b[0;34m\u001b[0m\u001b[0m\n\u001b[1;32m    606\u001b[0m             \u001b[0;32mif\u001b[0m \u001b[0;32mnot\u001b[0m \u001b[0msignaled\u001b[0m\u001b[0;34m:\u001b[0m\u001b[0;34m\u001b[0m\u001b[0;34m\u001b[0m\u001b[0m\n\u001b[0;32m--> 607\u001b[0;31m                 \u001b[0msignaled\u001b[0m \u001b[0;34m=\u001b[0m \u001b[0mself\u001b[0m\u001b[0;34m.\u001b[0m\u001b[0m_cond\u001b[0m\u001b[0;34m.\u001b[0m\u001b[0mwait\u001b[0m\u001b[0;34m(\u001b[0m\u001b[0mtimeout\u001b[0m\u001b[0;34m)\u001b[0m\u001b[0;34m\u001b[0m\u001b[0;34m\u001b[0m\u001b[0m\n\u001b[0m\u001b[1;32m    608\u001b[0m             \u001b[0;32mreturn\u001b[0m \u001b[0msignaled\u001b[0m\u001b[0;34m\u001b[0m\u001b[0;34m\u001b[0m\u001b[0m\n\u001b[1;32m    609\u001b[0m \u001b[0;34m\u001b[0m\u001b[0m\n",
      "\u001b[0;32m/opt/conda/lib/python3.10/threading.py\u001b[0m in \u001b[0;36mwait\u001b[0;34m(self, timeout)\u001b[0m\n\u001b[1;32m    322\u001b[0m             \u001b[0;32melse\u001b[0m\u001b[0;34m:\u001b[0m\u001b[0;34m\u001b[0m\u001b[0;34m\u001b[0m\u001b[0m\n\u001b[1;32m    323\u001b[0m                 \u001b[0;32mif\u001b[0m \u001b[0mtimeout\u001b[0m \u001b[0;34m>\u001b[0m \u001b[0;36m0\u001b[0m\u001b[0;34m:\u001b[0m\u001b[0;34m\u001b[0m\u001b[0;34m\u001b[0m\u001b[0m\n\u001b[0;32m--> 324\u001b[0;31m                     \u001b[0mgotit\u001b[0m \u001b[0;34m=\u001b[0m \u001b[0mwaiter\u001b[0m\u001b[0;34m.\u001b[0m\u001b[0macquire\u001b[0m\u001b[0;34m(\u001b[0m\u001b[0;32mTrue\u001b[0m\u001b[0;34m,\u001b[0m \u001b[0mtimeout\u001b[0m\u001b[0;34m)\u001b[0m\u001b[0;34m\u001b[0m\u001b[0;34m\u001b[0m\u001b[0m\n\u001b[0m\u001b[1;32m    325\u001b[0m                 \u001b[0;32melse\u001b[0m\u001b[0;34m:\u001b[0m\u001b[0;34m\u001b[0m\u001b[0;34m\u001b[0m\u001b[0m\n\u001b[1;32m    326\u001b[0m                     \u001b[0mgotit\u001b[0m \u001b[0;34m=\u001b[0m \u001b[0mwaiter\u001b[0m\u001b[0;34m.\u001b[0m\u001b[0macquire\u001b[0m\u001b[0;34m(\u001b[0m\u001b[0;32mFalse\u001b[0m\u001b[0;34m)\u001b[0m\u001b[0;34m\u001b[0m\u001b[0;34m\u001b[0m\u001b[0m\n",
      "\u001b[0;31mKeyboardInterrupt\u001b[0m: "
     ]
    }
   ],
   "source": [
    "# We will be using a bash script to download the data \n",
    "# git wgets the bash script and \n",
    "primary_remote.run(\"wget ...\")\n",
    "primary_remote.run(\"chmod +x download_bts_data.sh\")\n",
    "primary_remote.run(\"./download_bts_data.sh\")"
   ]
  },
  {
   "cell_type": "code",
   "execution_count": 10,
   "id": "305e0d11-e9e5-4029-9990-0d98d6cac0a5",
   "metadata": {},
   "outputs": [
    {
     "name": "stderr",
     "output_type": "stream",
     "text": [
      "/opt/conda/lib/python3.10/site-packages/paramiko/client.py:889: UserWarning: Unknown ssh-ed25519 host key for 129.114.26.118: b'0973d3549c0d2a8910162d8504d609b6'\n",
      "  warnings.warn(\n"
     ]
    },
    {
     "name": "stdout",
     "output_type": "stream",
     "text": [
      "bts_data/2023_2.zip\n",
      "bts_data/2023_4.zip\n",
      "bts_data/2023_12.zip\n",
      "bts_data/2023_11.zip\n",
      "bts_data/2023_1.zip\n",
      "bts_data/2023_5.zip\n",
      "bts_data/2023_7.zip\n",
      "bts_data/2023_10.zip\n",
      "bts_data/2023_9.zip\n",
      "bts_data/2023_3.zip\n",
      "bts_data/2023_8.zip\n",
      "bts_data/2023_6.zip\n"
     ]
    },
    {
     "data": {
      "text/plain": [
       "<Result cmd='source myenv/bin/activate; source app-cred-batch_data_artifact-openrc.sh &&swift --os-auth-type v3applicationcredential upload batch-data-container ./bts_data' exited=0>"
      ]
     },
     "execution_count": 10,
     "metadata": {},
     "output_type": "execute_result"
    }
   ],
   "source": [
    "folder_path = \"./bts_data\"\n",
    "primary_remote.run('source myenv/bin/activate; source app-cred-batch_data_artifact-openrc.sh &&swift --os-auth-type v3applicationcredential upload '+container_name+' '+folder_path+'')"
   ]
  },
  {
   "cell_type": "code",
   "execution_count": null,
   "id": "e41710b4-726a-47a0-b7d1-2cc1afb8a6db",
   "metadata": {},
   "outputs": [],
   "source": [
    "#Downloading airport location and timezone data\n",
    "primary_remote.run(\"wget https://raw.githubusercontent.com/GoogleCloudPlatform/data-science-on-gcp/652564b9feeeaab331ce27fdd672b8226ba1e837/04_streaming/simulate/airports.csv.gz\")\n",
    "primary_remote.run('source myenv/bin/activate; source app-cred-batch_data_artifact-openrc.sh &&swift --os-auth-type v3applicationcredential upload '+container_name+' airports.csv.gz')"
   ]
  },
  {
   "cell_type": "markdown",
   "id": "d4f22c7f-fe5a-4ddc-be06-71a4ff759c80",
   "metadata": {},
   "source": [
    "Now we will check if you are able to download the date into your node from the ObjStore"
   ]
  },
  {
   "cell_type": "code",
   "execution_count": 12,
   "id": "9cddc535-da06-471c-a754-0f8ef4cb3d96",
   "metadata": {},
   "outputs": [
    {
     "name": "stdout",
     "output_type": "stream",
     "text": [
      "app-cred-batch_data_artifact-openrc.sh\n",
      "download_bts_data.sh\n",
      "myenv\n",
      "openrc\n",
      "sample-file.txt\n"
     ]
    },
    {
     "data": {
      "text/plain": [
       "<Result cmd='rm -rf bts_data; ls' exited=0>"
      ]
     },
     "execution_count": 12,
     "metadata": {},
     "output_type": "execute_result"
    }
   ],
   "source": [
    "primary_remote.run(\"rm -rf bts_data; ls\")"
   ]
  },
  {
   "cell_type": "code",
   "execution_count": 16,
   "id": "3c977000-0308-493a-b245-0001c3a84811",
   "metadata": {},
   "outputs": [
    {
     "name": "stdout",
     "output_type": "stream",
     "text": [
      "./downloaded_bts_data/bts_data/2023_9.zip [auth 0.321s, headers 0.751s, total 1.686s, 20.549 MB/s]\n",
      "./downloaded_bts_data/bts_data/2023_5.zip [auth 0.330s, headers 0.767s, total 1.810s, 19.142 MB/s]\n",
      "./downloaded_bts_data/bts_data/2023_2.zip [auth 0.606s, headers 0.841s, total 1.861s, 19.702 MB/s]\n",
      "./downloaded_bts_data/bts_data/2023_8.zip [auth 0.323s, headers 0.751s, total 1.869s, 19.112 MB/s]\n",
      "./downloaded_bts_data/bts_data/2023_1.zip [auth 0.399s, headers 0.815s, total 1.925s, 17.745 MB/s]\n",
      "./downloaded_bts_data/bts_data/2023_10.zip [auth 0.322s, headers 0.787s, total 1.954s, 18.051 MB/s]\n",
      "./downloaded_bts_data/bts_data/2023_7.zip [auth 0.600s, headers 0.855s, total 1.972s, 22.026 MB/s]\n",
      "./downloaded_bts_data/bts_data/2023_6.zip [auth 0.592s, headers 0.871s, total 1.996s, 20.710 MB/s]\n",
      "./downloaded_bts_data/bts_data/2023_11.zip [auth 0.594s, headers 0.901s, total 2.027s, 19.241 MB/s]\n",
      "./downloaded_bts_data/bts_data/2023_4.zip [auth 0.679s, headers 0.951s, total 2.034s, 20.647 MB/s]\n",
      "./downloaded_bts_data/bts_data/2023_12.zip [auth 0.000s, headers 0.084s, total 0.373s, 77.224 MB/s]\n",
      "./downloaded_bts_data/bts_data/2023_3.zip [auth 0.000s, headers 0.033s, total 0.493s, 58.734 MB/s]\n",
      "app-cred-batch_data_artifact-openrc.sh\n",
      "download_bts_data.sh\n",
      "downloaded_bts_data\n",
      "myenv\n",
      "openrc\n",
      "sample-file.txt\n"
     ]
    },
    {
     "data": {
      "text/plain": [
       "<Result cmd='source myenv/bin/activate; source app-cred-batch_data_artifact-openrc.sh && swift --os-auth-type v3applicationcredential download batch-data-container --prefix \"bts_data/\" --output-dir ./downloaded_bts_data; ls' exited=0>"
      ]
     },
     "execution_count": 16,
     "metadata": {},
     "output_type": "execute_result"
    }
   ],
   "source": [
    "DEST_DIR=\"./downloaded_bts_data\" \n",
    "primary_remote.run('source myenv/bin/activate; source app-cred-batch_data_artifact-openrc.sh && swift --os-auth-type v3applicationcredential download '+container_name+' --prefix \"bts_data/\" --output-dir '+DEST_DIR+'; ls')"
   ]
  },
  {
   "cell_type": "code",
   "execution_count": 21,
   "id": "b970052f-4947-4aa5-aebc-9c6b019896c2",
   "metadata": {},
   "outputs": [
    {
     "name": "stdout",
     "output_type": "stream",
     "text": [
      "2023_1.zip\n",
      "2023_10.zip\n",
      "2023_11.zip\n",
      "2023_12.zip\n",
      "2023_2.zip\n",
      "2023_3.zip\n",
      "2023_4.zip\n",
      "2023_5.zip\n",
      "2023_6.zip\n",
      "2023_7.zip\n",
      "2023_8.zip\n",
      "2023_9.zip\n"
     ]
    },
    {
     "data": {
      "text/plain": [
       "<Result cmd='cd downloaded_bts_data/bts_data; ls' exited=0>"
      ]
     },
     "execution_count": 21,
     "metadata": {},
     "output_type": "execute_result"
    }
   ],
   "source": [
    "# Check the files on your node\n",
    "primary_remote.run(\"cd downloaded_bts_data/bts_data; ls\")"
   ]
  },
  {
   "cell_type": "markdown",
   "id": "726d7cd6-cb5c-45c9-a8d3-358fac0ad97c",
   "metadata": {},
   "source": [
    "## Release resources"
   ]
  },
  {
   "cell_type": "markdown",
   "id": "c3a4dde6-d835-4795-86df-4e0a6646c222",
   "metadata": {},
   "source": [
    "Now that you are able to upload and download data onto your node you can release the resources and move onto the next section of this experiment"
   ]
  },
  {
   "cell_type": "code",
   "execution_count": 23,
   "id": "230d09df-73ee-4581-97d2-7e1c5a2a1492",
   "metadata": {
    "tags": []
   },
   "outputs": [],
   "source": [
    "# delete the nodes\n",
    "server_ids = [chi.server.get_server_id(n['name'] + \"_\" + username) for n in node_conf]\n",
    "server_ips = [d['addr'] for s in server_ids for d in chi.server.show_server(s).addresses['public_net_' + username] if d['OS-EXT-IPS:type']=='floating']\n",
    "for server_id in server_ids:\n",
    "    chi.server.delete_server(server_id)"
   ]
  },
  {
   "cell_type": "code",
   "execution_count": 24,
   "id": "8ef63481-c796-4ee9-be7f-1976515ffb63",
   "metadata": {
    "tags": []
   },
   "outputs": [],
   "source": [
    "# release the floating IP addresses used for SSH\n",
    "for server_ip in server_ips:\n",
    "    ip_details = chi.network.get_floating_ip(server_ip)\n",
    "    chi.neutron().delete_floatingip(ip_details[\"id\"])"
   ]
  },
  {
   "cell_type": "code",
   "execution_count": 25,
   "id": "47daa9f1-ac38-4104-bd86-b639d0c430b6",
   "metadata": {
    "tags": []
   },
   "outputs": [
    {
     "data": {
      "text/plain": [
       "()"
      ]
     },
     "execution_count": 25,
     "metadata": {},
     "output_type": "execute_result"
    }
   ],
   "source": [
    "# delete the router used for public Internet access\n",
    "router = chi.network.get_router(\"inet_router_\" + username)\n",
    "public_subnet = chi.network.get_subnet(\"public_subnet_\" + username)\n",
    "public_net = chi.network.get_network(\"public_net_\" + username)\n",
    "chi.network.remove_subnet_from_router(router.get(\"id\"), public_subnet.get(\"id\"))\n",
    "chi.network.delete_router(router.get(\"id\"))"
   ]
  },
  {
   "cell_type": "code",
   "execution_count": 26,
   "id": "6b24e6df-8707-4a93-956f-897cb4aa576f",
   "metadata": {
    "tags": []
   },
   "outputs": [
    {
     "data": {
      "text/plain": [
       "()"
      ]
     },
     "execution_count": 26,
     "metadata": {},
     "output_type": "execute_result"
    }
   ],
   "source": [
    "# delete the public network\n",
    "chi.network.delete_subnet(public_subnet.get('id'))\n",
    "chi.network.delete_network(public_net.get(\"id\"))"
   ]
  },
  {
   "cell_type": "code",
   "execution_count": 27,
   "id": "6c04d044-4e6f-4a1f-93d8-848b9ec17514",
   "metadata": {
    "tags": []
   },
   "outputs": [],
   "source": [
    "# delete the experiment networks\n",
    "subnets = [chi.network.get_subnet(\"exp_subnet_\" + n['name']  + '_' + username) for n in net_conf]\n",
    "nets    = [chi.network.get_network(\"exp_\" + n['name']  + '_' + username) for n in net_conf]\n",
    "for subnet, net in zip(subnets, nets):\n",
    "    chi.network.delete_subnet(subnet.get('id'))\n",
    "    chi.network.delete_network(net.get('id'))"
   ]
  }
 ],
 "metadata": {
  "kernelspec": {
   "display_name": "Python 3 (ipykernel)",
   "language": "python",
   "name": "python3"
  },
  "language_info": {
   "codemirror_mode": {
    "name": "ipython",
    "version": 3
   },
   "file_extension": ".py",
   "mimetype": "text/x-python",
   "name": "python",
   "nbconvert_exporter": "python",
   "pygments_lexer": "ipython3",
   "version": "3.10.9"
  }
 },
 "nbformat": 4,
 "nbformat_minor": 5
}
